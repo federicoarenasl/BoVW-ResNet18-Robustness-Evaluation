{
 "cells": [
  {
   "cell_type": "code",
   "execution_count": 1,
   "id": "sexual-excuse",
   "metadata": {},
   "outputs": [],
   "source": [
    "import os.path\n",
    "from os import path\n",
    "import numpy as np\n",
    "import pandas as pd\n",
    "from PIL import Image\n",
    "import matplotlib.pyplot as plt"
   ]
  },
  {
   "cell_type": "code",
   "execution_count": 2,
   "id": "extensive-escape",
   "metadata": {},
   "outputs": [],
   "source": [
    "df = pd.read_csv(\"./catdogs.csv\")"
   ]
  },
  {
   "cell_type": "code",
   "execution_count": null,
   "id": "corrected-truth",
   "metadata": {},
   "outputs": [],
   "source": [
    "splits_train = []\n",
    "splits_val = []\n",
    "\n",
    "divs = ['C', 'B', 'A']\n",
    "\n",
    "for div in divs:\n",
    "    splits_train.append(df.loc[df.folder != div])\n",
    "    splits_val.append(df.loc[df.folder == div])\n",
    "\n"
   ]
  }
 ],
 "metadata": {
  "kernelspec": {
   "display_name": "Python 3",
   "language": "python",
   "name": "python3"
  },
  "language_info": {
   "codemirror_mode": {
    "name": "ipython",
    "version": 3
   },
   "file_extension": ".py",
   "mimetype": "text/x-python",
   "name": "python",
   "nbconvert_exporter": "python",
   "pygments_lexer": "ipython3",
   "version": "3.7.9"
  }
 },
 "nbformat": 4,
 "nbformat_minor": 5
}
