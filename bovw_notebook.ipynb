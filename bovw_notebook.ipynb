{
 "cells": [
  {
   "cell_type": "markdown",
   "metadata": {},
   "source": [
    "# Bag of Visual Words implementation for Dog and Cat detection"
   ]
  },
  {
   "cell_type": "markdown",
   "metadata": {},
   "source": [
    "## Library import"
   ]
  },
  {
   "cell_type": "code",
   "execution_count": 12,
   "metadata": {},
   "outputs": [],
   "source": [
    "import numpy as np\n",
    "import cv2\n",
    "import os\n",
    "import pandas as pd\n",
    "import matplotlib.pyplot as plt\n",
    "from scipy import ndimage\n",
    "from scipy.spatial import distance\n",
    "from sklearn.cluster import KMeans\n",
    "from sklearn.utils import shuffle\n",
    "from tqdm.notebook import tqdm"
   ]
  },
  {
   "cell_type": "code",
   "execution_count": 8,
   "metadata": {},
   "outputs": [
    {
     "name": "stdout",
     "output_type": "stream",
     "text": [
      "/mnt/c/Users/Federico Arenas/Documents/Federico/UoE/MSC_AI/2021-1/IVC/Coursework/IVC_project\n"
     ]
    }
   ],
   "source": [
    "print(os.getcwd())"
   ]
  },
  {
   "cell_type": "markdown",
   "metadata": {},
   "source": [
    "## Helper functions"
   ]
  },
  {
   "cell_type": "code",
   "execution_count": 23,
   "metadata": {},
   "outputs": [],
   "source": [
    "# Get dataset of data split\n",
    "def get_splits(split_n):\n",
    "    '''\n",
    "\n",
    "    '''\n",
    "    path = './data/split_'+str(split_n)+'/split_'+str(split_n)+\"_\"\n",
    "    train_df = pd.read_csv(path+'train.csv')\n",
    "    val_df = pd.read_csv(path+'val.csv')\n",
    "\n",
    "    return train_df, val_df\n",
    "\n",
    "# Read and store images\n",
    "def image_reader(dataframe):\n",
    "    '''\n",
    "    '''\n",
    "    image_dict = {}\n",
    "    file_locations = list(dataframe['image_id'])\n",
    "    labels = list(dataframe['label'])\n",
    "    category_0 = []\n",
    "    category_1 = []\n",
    "    for i in range(len(file_locations)):\n",
    "        image = cv2.imread(file_locations[i], cv2.COLOR_RGB2BGR)\n",
    "        try:\n",
    "            image = cv2.cvtColor(image, cv2.COLOR_RGB2BGR)\n",
    "        except: # if the image is gray\n",
    "            image = cv2.cvtColor(image,cv2.COLOR_GRAY2RGB)\n",
    "        \n",
    "        if labels[i] == 0:\n",
    "            category_0.append(image)\n",
    "        else:\n",
    "            category_1.append(image)\n",
    "\n",
    "    image_dict[0] = category_0\n",
    "    image_dict[1] = category_1\n",
    "\n",
    "    return image_dict\n",
    "\n",
    "# Get SIFT features and descriptors\n",
    "def sift_features(images):\n",
    "    '''\n",
    "    Creates descriptors using sift. Takes one parameter that is images dictionary. Return an array whose first \n",
    "    index holds the decriptor_list without an order and the second index holds the sift_vectors dictionary which\n",
    "    holds the descriptors but this is seperated class by class.\n",
    "    '''\n",
    "    sift_vectors = {}\n",
    "    descriptor_list = []\n",
    "    sift = cv2.xfeatures2d.SIFT_create()\n",
    "    for key,value in tqdm(images.items()):\n",
    "        features = []\n",
    "        for img in tqdm(value):\n",
    "            kp, des = sift.detectAndCompute(img,None)\n",
    "            descriptor_list.extend(des) #dico\n",
    "            features.append(des)\n",
    "        sift_vectors[key] = features\n",
    "\n",
    "    return descriptor_list, sift_vectors\n",
    "\n",
    "# Perform kmeans clustering on descriptors\n",
    "def kmeans(k, descriptor_list):\n",
    "    '''\n",
    "    A k-means clustering algorithm who takes 2 parameter which is number \n",
    "    of cluster(k) and the other is descriptors list(unordered 1d array)\n",
    "    Returns an array that holds central points.\n",
    "    '''\n",
    "    kmeans = KMeans(n_clusters = k, n_init=1, verbose=1)\n",
    "    kmeans.fit(descriptor_list)\n",
    "\n",
    "    return kmeans\n",
    "\n",
    "# Extract visual words from descriptors  \n",
    "def get_histograms(images, k, kmeans):\n",
    "    '''\n",
    "    '''    \n",
    "    hists = []\n",
    "    classes = []\n",
    "    sift = cv2.xfeatures2d.SIFT_create()\n",
    "    for key,value in tqdm(images.items()):\n",
    "        for img in tqdm(value):\n",
    "            kp, des = sift.detectAndCompute(img,None)\n",
    "\n",
    "            hist = np.zeros(k)\n",
    "            nkp = np.size(kp)\n",
    "\n",
    "            for d in des:\n",
    "                index = kmeans.predict([d])\n",
    "                hist[index] += 1/nkp # Normalization of histograms\n",
    "        \n",
    "            hists.append(hist)\n",
    "            classes.append(int(key))\n",
    "    \n",
    "    return np.array(hists), np.array(classes)"
   ]
  },
  {
   "cell_type": "markdown",
   "metadata": {},
   "source": [
    "## Convert dataframe to dictionary of images"
   ]
  },
  {
   "cell_type": "code",
   "execution_count": 14,
   "metadata": {},
   "outputs": [
    {
     "name": "stdout",
     "output_type": "stream",
     "text": [
      "Convert dataframe to dictionary of images\n"
     ]
    }
   ],
   "source": [
    "print('Convert dataframe to dictionary of images')\n",
    "split_n = 1\n",
    "train_splits, val_splits = get_splits(split_n)"
   ]
  },
  {
   "cell_type": "markdown",
   "metadata": {},
   "source": [
    "## Get split of data"
   ]
  },
  {
   "cell_type": "code",
   "execution_count": 15,
   "metadata": {},
   "outputs": [
    {
     "name": "stdout",
     "output_type": "stream",
     "text": [
      "Get split 1 data\n"
     ]
    }
   ],
   "source": [
    "# Get split 1 data\n",
    "print('Get split 1 data')\n",
    "train_dict = image_reader(train_splits)\n",
    "val_dict = image_reader(val_splits)"
   ]
  },
  {
   "cell_type": "markdown",
   "metadata": {},
   "source": [
    "## Get full sift features for training data"
   ]
  },
  {
   "cell_type": "code",
   "execution_count": 16,
   "metadata": {},
   "outputs": [
    {
     "name": "stdout",
     "output_type": "stream",
     "text": [
      "Get full sift features for training data\n"
     ]
    },
    {
     "data": {
      "application/vnd.jupyter.widget-view+json": {
       "model_id": "7072241f9b6f4577968bcd2a6c9e556d",
       "version_major": 2,
       "version_minor": 0
      },
      "text/plain": [
       "  0%|          | 0/2 [00:00<?, ?it/s]"
      ]
     },
     "metadata": {},
     "output_type": "display_data"
    },
    {
     "data": {
      "application/vnd.jupyter.widget-view+json": {
       "model_id": "a79f5064d23440da929f14c8a5a5efa2",
       "version_major": 2,
       "version_minor": 0
      },
      "text/plain": [
       "  0%|          | 0/792 [00:00<?, ?it/s]"
      ]
     },
     "metadata": {},
     "output_type": "display_data"
    },
    {
     "data": {
      "application/vnd.jupyter.widget-view+json": {
       "model_id": "bffffd5cdaad496ea5abd44c70c0079d",
       "version_major": 2,
       "version_minor": 0
      },
      "text/plain": [
       "  0%|          | 0/800 [00:00<?, ?it/s]"
      ]
     },
     "metadata": {},
     "output_type": "display_data"
    }
   ],
   "source": [
    "print('Get full sift features for training data')\n",
    "descriptor_list, sift_vectors = sift_features(train_dict) \n",
    "np.save('output/bovw/sift_vectors.npy', sift_vectors)"
   ]
  },
  {
   "cell_type": "markdown",
   "metadata": {},
   "source": [
    "## Perform kmeans training to get visual words"
   ]
  },
  {
   "cell_type": "code",
   "execution_count": 17,
   "metadata": {},
   "outputs": [
    {
     "name": "stdout",
     "output_type": "stream",
     "text": [
      "Takes the central points which is visual words\n",
      "Initialization complete\n",
      "Iteration 0, inertia 69941430553.0\n",
      "Iteration 1, inertia 45022804254.32941\n",
      "Iteration 2, inertia 43993751736.92146\n",
      "Iteration 3, inertia 43631456828.238144\n",
      "Iteration 4, inertia 43443809473.122375\n",
      "Iteration 5, inertia 43324308360.419624\n",
      "Iteration 6, inertia 43241291731.39898\n",
      "Iteration 7, inertia 43179010736.99799\n",
      "Iteration 8, inertia 43126673679.55967\n",
      "Iteration 9, inertia 43080536366.821205\n",
      "Iteration 10, inertia 43041898410.71034\n",
      "Iteration 11, inertia 43010715221.123314\n",
      "Iteration 12, inertia 42985313234.73533\n",
      "Iteration 13, inertia 42965641250.72398\n",
      "Iteration 14, inertia 42950279757.44258\n",
      "Iteration 15, inertia 42937798529.440094\n",
      "Iteration 16, inertia 42927637812.49553\n",
      "Iteration 17, inertia 42918953697.60425\n",
      "Iteration 18, inertia 42910865908.812904\n",
      "Iteration 19, inertia 42903510906.49575\n",
      "Iteration 20, inertia 42897207450.185616\n",
      "Iteration 21, inertia 42891901811.14063\n",
      "Iteration 22, inertia 42887619289.824394\n",
      "Iteration 23, inertia 42883847723.04126\n",
      "Iteration 24, inertia 42880609116.72042\n",
      "Iteration 25, inertia 42877649511.98772\n",
      "Iteration 26, inertia 42875071131.01988\n",
      "Iteration 27, inertia 42872866069.05794\n",
      "Iteration 28, inertia 42870799849.10785\n",
      "Iteration 29, inertia 42868861642.80721\n",
      "Iteration 30, inertia 42867086309.5971\n",
      "Iteration 31, inertia 42865445673.94192\n",
      "Iteration 32, inertia 42864055728.736084\n",
      "Iteration 33, inertia 42862833734.98021\n",
      "Iteration 34, inertia 42861818464.67989\n",
      "Iteration 35, inertia 42860932925.92184\n",
      "Iteration 36, inertia 42860210479.58887\n",
      "Iteration 37, inertia 42859633714.38474\n",
      "Iteration 38, inertia 42859140195.02755\n",
      "Iteration 39, inertia 42858719112.22671\n",
      "Iteration 40, inertia 42858348761.49426\n",
      "Iteration 41, inertia 42858062556.2577\n",
      "Iteration 42, inertia 42857819282.87201\n",
      "Iteration 43, inertia 42857615961.558334\n",
      "Iteration 44, inertia 42857425728.849045\n",
      "Iteration 45, inertia 42857268197.697365\n",
      "Iteration 46, inertia 42857134544.03557\n",
      "Iteration 47, inertia 42857014786.16892\n",
      "Iteration 48, inertia 42856906787.191475\n",
      "Iteration 49, inertia 42856821471.14049\n",
      "Iteration 50, inertia 42856756504.38611\n",
      "Iteration 51, inertia 42856695688.80422\n",
      "Iteration 52, inertia 42856627731.19044\n",
      "Iteration 53, inertia 42856565057.76435\n",
      "Iteration 54, inertia 42856509167.79375\n",
      "Iteration 55, inertia 42856462020.66925\n",
      "Iteration 56, inertia 42856418082.56735\n",
      "Iteration 57, inertia 42856383731.460526\n",
      "Iteration 58, inertia 42856347663.34827\n",
      "Iteration 59, inertia 42856313839.83127\n",
      "Iteration 60, inertia 42856281773.36067\n",
      "Iteration 61, inertia 42856249035.43497\n",
      "Iteration 62, inertia 42856220440.451866\n",
      "Iteration 63, inertia 42856194583.09683\n",
      "Iteration 64, inertia 42856171974.965\n",
      "Iteration 65, inertia 42856152296.48177\n",
      "Iteration 66, inertia 42856136784.56516\n",
      "Iteration 67, inertia 42856121641.8036\n",
      "Iteration 68, inertia 42856108779.949135\n",
      "Iteration 69, inertia 42856096536.24307\n",
      "Iteration 70, inertia 42856085575.92671\n",
      "Iteration 71, inertia 42856075038.56165\n",
      "Iteration 72, inertia 42856065283.30117\n",
      "Iteration 73, inertia 42856057354.1317\n",
      "Iteration 74, inertia 42856052231.43472\n",
      "Iteration 75, inertia 42856047513.18625\n",
      "Iteration 76, inertia 42856042923.648285\n",
      "Iteration 77, inertia 42856038925.09627\n",
      "Iteration 78, inertia 42856034813.18188\n",
      "Converged at iteration 78: center shift 0.111321781819314 within tolerance 0.11180727447515475.\n"
     ]
    }
   ],
   "source": [
    "print('Takes the central points which is visual words')\n",
    "k_means = kmeans(20, descriptor_list) "
   ]
  },
  {
   "cell_type": "markdown",
   "metadata": {},
   "source": [
    "## Get histograms from kmeans clustering"
   ]
  },
  {
   "cell_type": "code",
   "execution_count": 24,
   "metadata": {},
   "outputs": [
    {
     "name": "stdout",
     "output_type": "stream",
     "text": [
      "Get histograms from kmeans clustering\n"
     ]
    },
    {
     "data": {
      "application/vnd.jupyter.widget-view+json": {
       "model_id": "296481be633e4c2881410dc3c66a9228",
       "version_major": 2,
       "version_minor": 0
      },
      "text/plain": [
       "  0%|          | 0/2 [00:00<?, ?it/s]"
      ]
     },
     "metadata": {},
     "output_type": "display_data"
    },
    {
     "data": {
      "application/vnd.jupyter.widget-view+json": {
       "model_id": "2a729363851e420ea1c842ba9594a8f4",
       "version_major": 2,
       "version_minor": 0
      },
      "text/plain": [
       "  0%|          | 0/792 [00:00<?, ?it/s]"
      ]
     },
     "metadata": {},
     "output_type": "display_data"
    },
    {
     "data": {
      "application/vnd.jupyter.widget-view+json": {
       "model_id": "818c5e9163f244ae90ea492ad7085af4",
       "version_major": 2,
       "version_minor": 0
      },
      "text/plain": [
       "  0%|          | 0/800 [00:00<?, ?it/s]"
      ]
     },
     "metadata": {},
     "output_type": "display_data"
    }
   ],
   "source": [
    "print(\"Get histograms from kmeans clustering\")\n",
    "histograms, classes = get_histograms(train_dict, 20, k_means)\n",
    "np.save('output/bovw/train_visual_words.npy', histograms)\n",
    "np.save('output/bovw/train_classes.npy', classes)"
   ]
  },
  {
   "cell_type": "code",
   "execution_count": 19,
   "metadata": {},
   "outputs": [],
   "source": [
    "histograms = np.load('output/bovw/visual_words.npy')"
   ]
  },
  {
   "cell_type": "markdown",
   "metadata": {},
   "source": [
    "## Prepare SVM Classifier"
   ]
  },
  {
   "cell_type": "code",
   "execution_count": null,
   "metadata": {},
   "outputs": [],
   "source": []
  }
 ],
 "metadata": {
  "kernelspec": {
   "display_name": "Python 3",
   "language": "python",
   "name": "python3"
  },
  "language_info": {
   "codemirror_mode": {
    "name": "ipython",
    "version": 3
   },
   "file_extension": ".py",
   "mimetype": "text/x-python",
   "name": "python",
   "nbconvert_exporter": "python",
   "pygments_lexer": "ipython3",
   "version": "3.7.9"
  }
 },
 "nbformat": 4,
 "nbformat_minor": 2
}
