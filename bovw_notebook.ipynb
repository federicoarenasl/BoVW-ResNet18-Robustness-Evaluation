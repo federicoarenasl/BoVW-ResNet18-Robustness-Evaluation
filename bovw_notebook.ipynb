{
 "cells": [
  {
   "cell_type": "markdown",
   "metadata": {},
   "source": [
    "# Bag of Visual Words implementation for Dog and Cat detection"
   ]
  },
  {
   "cell_type": "markdown",
   "metadata": {},
   "source": [
    "## Library import"
   ]
  },
  {
   "cell_type": "code",
   "execution_count": 1,
   "metadata": {},
   "outputs": [],
   "source": [
    "import numpy as np\n",
    "import cv2\n",
    "import os\n",
    "import pandas as pd\n",
    "import matplotlib.pyplot as plt\n",
    "from scipy import ndimage\n",
    "from scipy.spatial import distance\n",
    "from sklearn.cluster import KMeans\n",
    "from sklearn.utils import shuffle\n",
    "from sklearn.svm import SVC\n",
    "from sklearn.pipeline import make_pipeline\n",
    "from sklearn.preprocessing import StandardScaler\n",
    "from tqdm.notebook import tqdm\n"
   ]
  },
  {
   "cell_type": "code",
   "execution_count": 2,
   "metadata": {},
   "outputs": [
    {
     "name": "stdout",
     "output_type": "stream",
     "text": [
      "/mnt/c/Users/Federico Arenas/Documents/Federico/UoE/MSC_AI/2021-1/IVC/Coursework/IVC_project\n"
     ]
    }
   ],
   "source": [
    "print(os.getcwd())"
   ]
  },
  {
   "cell_type": "markdown",
   "metadata": {},
   "source": [
    "## Helper functions"
   ]
  },
  {
   "cell_type": "markdown",
   "metadata": {},
   "source": [
    "## Convert dataframe to dictionary of images"
   ]
  },
  {
   "cell_type": "code",
   "execution_count": 3,
   "metadata": {},
   "outputs": [],
   "source": [
    "# Get dataset of data split\n",
    "def get_splits(split_n):\n",
    "    '''\n",
    "\n",
    "    '''\n",
    "    path = './data/full_split_'+str(split_n)+'/full_split_'+str(split_n)+\"_\"\n",
    "    train_df = pd.read_csv(path+'train.csv')\n",
    "    val_df = pd.read_csv(path+'val.csv')\n",
    "\n",
    "    return train_df, val_df"
   ]
  },
  {
   "cell_type": "code",
   "execution_count": 4,
   "metadata": {},
   "outputs": [
    {
     "name": "stdout",
     "output_type": "stream",
     "text": [
      "Convert dataframe to dictionary of images\n"
     ]
    }
   ],
   "source": [
    "print('Convert dataframe to dictionary of images')\n",
    "split_n = 1\n",
    "train_splits, val_splits = get_splits(split_n)"
   ]
  },
  {
   "cell_type": "markdown",
   "metadata": {},
   "source": [
    "## Get split of data"
   ]
  },
  {
   "cell_type": "code",
   "execution_count": 5,
   "metadata": {},
   "outputs": [],
   "source": [
    "# Read and store images\n",
    "def image_reader(dataframe):\n",
    "    '''\n",
    "    '''\n",
    "    image_dict = {}\n",
    "    file_locations = list(dataframe['image_id'])\n",
    "    labels = list(dataframe['label'])\n",
    "    category_0 = []\n",
    "    category_1 = []\n",
    "    for i in range(len(file_locations)):\n",
    "        image = cv2.imread(file_locations[i], cv2.COLOR_RGB2BGR)\n",
    "        try:\n",
    "            image = cv2.cvtColor(image, cv2.COLOR_RGB2BGR)\n",
    "        except: # if the image is gray\n",
    "            image = cv2.cvtColor(image,cv2.COLOR_GRAY2RGB)\n",
    "        \n",
    "        if labels[i] == 0:\n",
    "            category_0.append(image)\n",
    "        else:\n",
    "            category_1.append(image)\n",
    "\n",
    "    image_dict[0] = category_0\n",
    "    image_dict[1] = category_1\n",
    "\n",
    "    return image_dict"
   ]
  },
  {
   "cell_type": "code",
   "execution_count": 6,
   "metadata": {},
   "outputs": [
    {
     "name": "stdout",
     "output_type": "stream",
     "text": [
      "Get split 1 data\n"
     ]
    }
   ],
   "source": [
    "# Get split 1 data\n",
    "print('Get split 1 data')\n",
    "train_dict = image_reader(train_splits)\n",
    "val_dict = image_reader(val_splits)"
   ]
  },
  {
   "cell_type": "markdown",
   "metadata": {},
   "source": [
    "## Get full sift features for training data"
   ]
  },
  {
   "cell_type": "code",
   "execution_count": 7,
   "metadata": {},
   "outputs": [],
   "source": [
    "# Get SIFT features and descriptors\n",
    "def sift_features(images):\n",
    "    '''\n",
    "    Creates descriptors using sift. Takes one parameter that is images dictionary. Return an array whose first \n",
    "    index holds the decriptor_list without an order and the second index holds the sift_vectors dictionary which\n",
    "    holds the descriptors but this is seperated class by class.\n",
    "    '''\n",
    "    sift_vectors = {}\n",
    "    descriptor_list = []\n",
    "    sift = cv2.xfeatures2d.SIFT_create()\n",
    "    for key,value in tqdm(images.items()):\n",
    "        features = []\n",
    "        for img in tqdm(value):\n",
    "            kp, des = sift.detectAndCompute(img,None)\n",
    "            descriptor_list.extend(des)\n",
    "            features.append(des)\n",
    "        sift_vectors[key] = features\n",
    "\n",
    "    return descriptor_list, sift_vectors"
   ]
  },
  {
   "cell_type": "code",
   "execution_count": 8,
   "metadata": {},
   "outputs": [
    {
     "name": "stdout",
     "output_type": "stream",
     "text": [
      "Get full sift features for training data\n"
     ]
    },
    {
     "data": {
      "application/vnd.jupyter.widget-view+json": {
       "model_id": "ddb0ef02e08940a79050fd09521486f6",
       "version_major": 2,
       "version_minor": 0
      },
      "text/plain": [
       "  0%|          | 0/2 [00:00<?, ?it/s]"
      ]
     },
     "metadata": {},
     "output_type": "display_data"
    },
    {
     "data": {
      "application/vnd.jupyter.widget-view+json": {
       "model_id": "10370a7658334af9816caed8c468ef11",
       "version_major": 2,
       "version_minor": 0
      },
      "text/plain": [
       "  0%|          | 0/792 [00:00<?, ?it/s]"
      ]
     },
     "metadata": {},
     "output_type": "display_data"
    },
    {
     "data": {
      "application/vnd.jupyter.widget-view+json": {
       "model_id": "d9a2a3f5b2a344e99ffaebc84fb9cb19",
       "version_major": 2,
       "version_minor": 0
      },
      "text/plain": [
       "  0%|          | 0/786 [00:00<?, ?it/s]"
      ]
     },
     "metadata": {},
     "output_type": "display_data"
    },
    {
     "name": "stdout",
     "output_type": "stream",
     "text": [
      "Get full sift features for validation data...\n"
     ]
    },
    {
     "data": {
      "application/vnd.jupyter.widget-view+json": {
       "model_id": "ca09d3b599574dd6b20b4d5458f270a2",
       "version_major": 2,
       "version_minor": 0
      },
      "text/plain": [
       "  0%|          | 0/2 [00:00<?, ?it/s]"
      ]
     },
     "metadata": {},
     "output_type": "display_data"
    },
    {
     "data": {
      "application/vnd.jupyter.widget-view+json": {
       "model_id": "d1a115546a02496c8102fecfa7bd2390",
       "version_major": 2,
       "version_minor": 0
      },
      "text/plain": [
       "  0%|          | 0/408 [00:00<?, ?it/s]"
      ]
     },
     "metadata": {},
     "output_type": "display_data"
    },
    {
     "data": {
      "application/vnd.jupyter.widget-view+json": {
       "model_id": "ea16877b97b6402192e7242a8f363335",
       "version_major": 2,
       "version_minor": 0
      },
      "text/plain": [
       "  0%|          | 0/402 [00:00<?, ?it/s]"
      ]
     },
     "metadata": {},
     "output_type": "display_data"
    }
   ],
   "source": [
    "print('Get full sift features for training data')\n",
    "train_descriptor_list, train_sift_vectors = sift_features(train_dict)\n",
    "print('Get full sift features for validation data...')\n",
    "val_descriptor_list, val_sift_vectors = sift_features(val_dict)\n",
    "#np.save('output/bovw/sift_vectors.npy', sift_vectors)"
   ]
  },
  {
   "cell_type": "markdown",
   "metadata": {},
   "source": [
    "## Perform kmeans training to get visual words"
   ]
  },
  {
   "cell_type": "code",
   "execution_count": 9,
   "metadata": {},
   "outputs": [],
   "source": [
    "# Perform kmeans clustering on descriptors\n",
    "def kmeans(k, descriptor_list):\n",
    "    '''\n",
    "    A k-means clustering algorithm who takes 2 parameter which is number \n",
    "    of cluster(k) and the other is descriptors list(unordered 1d array)\n",
    "    Returns an array that holds central points.\n",
    "    '''\n",
    "    kmeans = KMeans(n_clusters = k, n_init=10, verbose=0)\n",
    "    kmeans.fit(descriptor_list)\n",
    "    vwords = kmeans.cluster_centers_\n",
    "\n",
    "    return kmeans, vwords"
   ]
  },
  {
   "cell_type": "code",
   "execution_count": 10,
   "metadata": {},
   "outputs": [
    {
     "name": "stdout",
     "output_type": "stream",
     "text": [
      "Perform clustering on training data...\n",
      "Perform clustering on validation data...\n"
     ]
    }
   ],
   "source": [
    "# Perform kmeans training to get visual words\n",
    "K = 150\n",
    "print('Perform clustering on training data...')\n",
    "train_k_means, train_centers = kmeans(K, train_descriptor_list)\n",
    "print('Perform clustering on validation data...')\n",
    "val_k_means, valid_centers = kmeans(K, val_descriptor_list)"
   ]
  },
  {
   "cell_type": "markdown",
   "metadata": {},
   "source": [
    "## Get histograms from kmeans clustering"
   ]
  },
  {
   "cell_type": "code",
   "execution_count": 11,
   "metadata": {},
   "outputs": [],
   "source": [
    "# Find index helper function\n",
    "def find_index(image, center):\n",
    "    count = 0\n",
    "    ind = 0\n",
    "    for i in range(len(center)):\n",
    "        if(i == 0):\n",
    "           count = distance.euclidean(image, center[i]) \n",
    "        else:\n",
    "            dist = distance.euclidean(image, center[i]) \n",
    "            if(dist < count):\n",
    "                ind = i\n",
    "                count = dist\n",
    "    return ind\n",
    "\n",
    "# Extract visual words from descriptors  \n",
    "def get_histograms_dictio(sift_vectors, kmeans_centers):\n",
    "    '''\n",
    "    '''    \n",
    "    dict_feature = {}\n",
    "    for key,value in sift_vectors.items():\n",
    "        print(f\"Getting histograms of class {key}...\")\n",
    "        category = []\n",
    "        for img in tqdm(value):\n",
    "            histogram = np.zeros(len(kmeans_centers))\n",
    "            for each_feature in img:\n",
    "                ind = find_index(each_feature, kmeans_centers)\n",
    "                histogram[ind] += 1\n",
    "            category.append(histogram)\n",
    "        dict_feature[key] = category\n",
    "    return dict_feature\n",
    "\n",
    "# Map dictionary of histograms to np arrays\n",
    "def get_histogram_arrays(sift_vectors, kmeans_centers):\n",
    "    histogram_dictio = get_histograms_dictio(sift_vectors, kmeans_centers)\n",
    "    X = []\n",
    "    Y = []\n",
    "    print(\"Converting to np.arrays...\")\n",
    "    for key in histogram_dictio.keys():\n",
    "        for value in tqdm(histogram_dictio[key]):\n",
    "            X.append(value)\n",
    "            Y.append(key)\n",
    "    \n",
    "    return np.array(X), np.array(Y)\n",
    "\n"
   ]
  },
  {
   "cell_type": "code",
   "execution_count": 12,
   "metadata": {},
   "outputs": [
    {
     "name": "stdout",
     "output_type": "stream",
     "text": [
      "Get histograms from kmeans clustering\n",
      "Getting histograms of class 0...\n"
     ]
    },
    {
     "data": {
      "application/vnd.jupyter.widget-view+json": {
       "model_id": "893dcdc7d21e49e6a2b55ff55d2a228b",
       "version_major": 2,
       "version_minor": 0
      },
      "text/plain": [
       "  0%|          | 0/792 [00:00<?, ?it/s]"
      ]
     },
     "metadata": {},
     "output_type": "display_data"
    },
    {
     "name": "stdout",
     "output_type": "stream",
     "text": [
      "Getting histograms of class 1...\n"
     ]
    },
    {
     "data": {
      "application/vnd.jupyter.widget-view+json": {
       "model_id": "e37cda5201ba46ceaceea9d475eddee1",
       "version_major": 2,
       "version_minor": 0
      },
      "text/plain": [
       "  0%|          | 0/786 [00:00<?, ?it/s]"
      ]
     },
     "metadata": {},
     "output_type": "display_data"
    },
    {
     "name": "stdout",
     "output_type": "stream",
     "text": [
      "Converting to np.arrays...\n"
     ]
    },
    {
     "data": {
      "application/vnd.jupyter.widget-view+json": {
       "model_id": "4b1c84f985914900ad4fa995d9584f2f",
       "version_major": 2,
       "version_minor": 0
      },
      "text/plain": [
       "  0%|          | 0/792 [00:00<?, ?it/s]"
      ]
     },
     "metadata": {},
     "output_type": "display_data"
    },
    {
     "data": {
      "application/vnd.jupyter.widget-view+json": {
       "model_id": "714c2c3af4f14a88b63d2b30be6433d6",
       "version_major": 2,
       "version_minor": 0
      },
      "text/plain": [
       "  0%|          | 0/786 [00:00<?, ?it/s]"
      ]
     },
     "metadata": {},
     "output_type": "display_data"
    },
    {
     "name": "stdout",
     "output_type": "stream",
     "text": [
      "Get validation histograms from kmeans clustering\n",
      "Getting histograms of class 0...\n"
     ]
    },
    {
     "data": {
      "application/vnd.jupyter.widget-view+json": {
       "model_id": "df3737ecb1af49ed83d47d3bbfa70e93",
       "version_major": 2,
       "version_minor": 0
      },
      "text/plain": [
       "  0%|          | 0/408 [00:00<?, ?it/s]"
      ]
     },
     "metadata": {},
     "output_type": "display_data"
    },
    {
     "name": "stdout",
     "output_type": "stream",
     "text": [
      "Getting histograms of class 1...\n"
     ]
    },
    {
     "data": {
      "application/vnd.jupyter.widget-view+json": {
       "model_id": "4febbaa20fad4af9a9f9075e78542be5",
       "version_major": 2,
       "version_minor": 0
      },
      "text/plain": [
       "  0%|          | 0/402 [00:00<?, ?it/s]"
      ]
     },
     "metadata": {},
     "output_type": "display_data"
    },
    {
     "name": "stdout",
     "output_type": "stream",
     "text": [
      "Converting to np.arrays...\n"
     ]
    },
    {
     "data": {
      "application/vnd.jupyter.widget-view+json": {
       "model_id": "c09cc97dd2a149dea4569cc818be3d4b",
       "version_major": 2,
       "version_minor": 0
      },
      "text/plain": [
       "  0%|          | 0/408 [00:00<?, ?it/s]"
      ]
     },
     "metadata": {},
     "output_type": "display_data"
    },
    {
     "data": {
      "application/vnd.jupyter.widget-view+json": {
       "model_id": "19ac3436ef55453ea7f296880375bfca",
       "version_major": 2,
       "version_minor": 0
      },
      "text/plain": [
       "  0%|          | 0/402 [00:00<?, ?it/s]"
      ]
     },
     "metadata": {},
     "output_type": "display_data"
    }
   ],
   "source": [
    "print(\"Get histograms from kmeans clustering\")\n",
    "train_histograms, train_classes = get_histogram_arrays(train_sift_vectors, train_centers)\n",
    "np.save('output/bovw/train_visual_words.npy', train_histograms)\n",
    "np.save('output/bovw/train_classes.npy', train_classes)\n",
    "print(\"Get validation histograms from kmeans clustering\")\n",
    "val_histograms, val_classes = get_histogram_arrays(val_sift_vectors, valid_centers)\n",
    "np.save('output/bovw/val_visual_words.npy', val_histograms)\n",
    "np.save('output/bovw/val_classes.npy', val_classes)"
   ]
  },
  {
   "cell_type": "markdown",
   "metadata": {},
   "source": [
    "## Load data"
   ]
  },
  {
   "cell_type": "code",
   "execution_count": 13,
   "metadata": {},
   "outputs": [],
   "source": [
    "loaded_train_histograms = np.load('output/bovw/train_visual_words.npy')\n",
    "loaded_train_classes = np.load('output/bovw/train_classes.npy')\n",
    "loaded_val_histograms = np.load('output/bovw/val_visual_words.npy')\n",
    "loaded_val_classes = np.load('output/bovw/val_classes.npy')"
   ]
  },
  {
   "cell_type": "markdown",
   "metadata": {},
   "source": [
    "## Prepare SVM Classifier"
   ]
  },
  {
   "cell_type": "code",
   "execution_count": 14,
   "metadata": {},
   "outputs": [],
   "source": [
    "# Initialize SVM classifier\n",
    "def train_svm(visual_words, labels, c, k_):\n",
    "    # Get training data\n",
    "    X_train = visual_words\n",
    "    Y_train = labels\n",
    "\n",
    "    # Initialize SVM classifier\n",
    "    svc_classifier = make_pipeline(StandardScaler(), SVC(C=c, kernel=k_, gamma='auto'))\n",
    "    svc_classifier.fit(X_train, Y_train)\n",
    "    \n",
    "    return svc_classifier"
   ]
  },
  {
   "cell_type": "code",
   "execution_count": 15,
   "metadata": {},
   "outputs": [
    {
     "name": "stdout",
     "output_type": "stream",
     "text": [
      "Train SVM classifier\n",
      "---\tC: 2.0;\tKernel: poly\t---\n",
      "\tTraining accuracy:\t 0.9505703422053232\n",
      "\tValidation accuracy:\t 0.48148148148148145\n",
      "---\tC: 2.0;\tKernel: rbf\t---\n",
      "\tTraining accuracy:\t 0.9397972116603295\n",
      "\tValidation accuracy:\t 0.5049382716049383\n",
      "---\tC: 2.1;\tKernel: poly\t---\n",
      "\tTraining accuracy:\t 0.9512040557667935\n",
      "\tValidation accuracy:\t 0.47901234567901235\n",
      "---\tC: 2.1;\tKernel: rbf\t---\n",
      "\tTraining accuracy:\t 0.94106463878327\n",
      "\tValidation accuracy:\t 0.5061728395061729\n",
      "---\tC: 2.2;\tKernel: poly\t---\n",
      "\tTraining accuracy:\t 0.9524714828897338\n",
      "\tValidation accuracy:\t 0.47530864197530864\n",
      "---\tC: 2.2;\tKernel: rbf\t---\n",
      "\tTraining accuracy:\t 0.944233206590621\n",
      "\tValidation accuracy:\t 0.5074074074074074\n",
      "---\tC: 2.3;\tKernel: poly\t---\n",
      "\tTraining accuracy:\t 0.9524714828897338\n",
      "\tValidation accuracy:\t 0.47160493827160493\n",
      "---\tC: 2.3;\tKernel: rbf\t---\n",
      "\tTraining accuracy:\t 0.9461343472750317\n",
      "\tValidation accuracy:\t 0.5074074074074074\n",
      "---\tC: 2.4;\tKernel: poly\t---\n",
      "\tTraining accuracy:\t 0.9550063371356147\n",
      "\tValidation accuracy:\t 0.4740740740740741\n",
      "---\tC: 2.4;\tKernel: rbf\t---\n",
      "\tTraining accuracy:\t 0.9474017743979721\n",
      "\tValidation accuracy:\t 0.5098765432098765\n",
      "---\tC: 2.5;\tKernel: poly\t---\n",
      "\tTraining accuracy:\t 0.9569074778200254\n",
      "\tValidation accuracy:\t 0.47901234567901235\n",
      "---\tC: 2.5;\tKernel: rbf\t---\n",
      "\tTraining accuracy:\t 0.949936628643853\n",
      "\tValidation accuracy:\t 0.5098765432098765\n",
      "---\tC: 2.6;\tKernel: poly\t---\n",
      "\tTraining accuracy:\t 0.958808618504436\n",
      "\tValidation accuracy:\t 0.4740740740740741\n",
      "---\tC: 2.6;\tKernel: rbf\t---\n",
      "\tTraining accuracy:\t 0.949936628643853\n",
      "\tValidation accuracy:\t 0.5111111111111111\n",
      "---\tC: 2.7;\tKernel: poly\t---\n",
      "\tTraining accuracy:\t 0.9600760456273765\n",
      "\tValidation accuracy:\t 0.4802469135802469\n",
      "---\tC: 2.7;\tKernel: rbf\t---\n",
      "\tTraining accuracy:\t 0.9512040557667935\n",
      "\tValidation accuracy:\t 0.5098765432098765\n",
      "---\tC: 2.8;\tKernel: poly\t---\n",
      "\tTraining accuracy:\t 0.9613434727503168\n",
      "\tValidation accuracy:\t 0.4777777777777778\n",
      "---\tC: 2.8;\tKernel: rbf\t---\n",
      "\tTraining accuracy:\t 0.9524714828897338\n",
      "\tValidation accuracy:\t 0.5123456790123457\n",
      "---\tC: 2.9;\tKernel: poly\t---\n",
      "\tTraining accuracy:\t 0.9619771863117871\n",
      "\tValidation accuracy:\t 0.48148148148148145\n",
      "---\tC: 2.9;\tKernel: rbf\t---\n",
      "\tTraining accuracy:\t 0.9531051964512041\n",
      "\tValidation accuracy:\t 0.5135802469135803\n"
     ]
    }
   ],
   "source": [
    "# Train SVM classifier\n",
    "print(\"Train SVM classifier\")\n",
    "c_values = [2.0, 2.1, 2.2, 2.3, 2.4, 2.5, 2.6, 2.7, 2.8, 2.9]\n",
    "kernels = ['poly', 'rbf']\n",
    "for c in c_values:\n",
    "    for kernel in kernels:\n",
    "        svm_classifier = train_svm(train_histograms, train_classes, c, kernel)\n",
    "        print(\"---\\tC: {};\\tKernel: {}\\t---\".format(c, kernel))\n",
    "        print(\"\\tTraining accuracy:\\t\", svm_classifier.score(train_histograms, train_classes))\n",
    "        print(\"\\tValidation accuracy:\\t\", svm_classifier.score(val_histograms, val_classes))"
   ]
  },
  {
   "cell_type": "code",
   "execution_count": null,
   "metadata": {},
   "outputs": [],
   "source": []
  }
 ],
 "metadata": {
  "kernelspec": {
   "display_name": "Python 3",
   "language": "python",
   "name": "python3"
  },
  "language_info": {
   "codemirror_mode": {
    "name": "ipython",
    "version": 3
   },
   "file_extension": ".py",
   "mimetype": "text/x-python",
   "name": "python",
   "nbconvert_exporter": "python",
   "pygments_lexer": "ipython3",
   "version": "3.7.9"
  }
 },
 "nbformat": 4,
 "nbformat_minor": 2
}
