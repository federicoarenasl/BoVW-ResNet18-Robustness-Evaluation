{
 "cells": [
  {
   "cell_type": "code",
   "execution_count": 67,
   "id": "unnecessary-grave",
   "metadata": {},
   "outputs": [],
   "source": [
    "# Library imports\n",
    "import os.path\n",
    "from os import path\n",
    "import numpy as np\n",
    "import pandas as pd\n",
    "from PIL import Image\n",
    "import matplotlib.pyplot as plt\n",
    "\n",
    "import torch\n",
    "from torch.utils.data import Sampler\n",
    "from torch.utils.data import Dataset\n",
    "from torch.utils.data import DataLoader\n",
    "from torch.utils.data import BatchSampler\n",
    "from torchvision.transforms import transforms\n",
    "from sklearn.model_selection import StratifiedKFold\n",
    "from sklearn.model_selection import StratifiedShuffleSplit\n",
    "from PIL import Image\n",
    "from tqdm.notebook import trange, tqdm\n",
    "from shutil import copyfile\n",
    "from sklearn.utils import shuffle\n",
    "\n",
    "# Define data paths\n",
    "DOGS_PATH = \"./catdog/DOGS/\"\n",
    "CATS_PATH = \"./catdog/CATS/\"\n",
    "DATA_PATH = \"./catdogs.csv\""
   ]
  },
  {
   "cell_type": "markdown",
   "id": "ecological-edgar",
   "metadata": {},
   "source": [
    "## Create .csv file with all the data"
   ]
  },
  {
   "cell_type": "code",
   "execution_count": 7,
   "id": "removed-crown",
   "metadata": {},
   "outputs": [],
   "source": [
    "# Create csv file of all data paths\n",
    "def create_csv():\n",
    "    dog_imgs = np.array([[\"./catdog/DOGS/\" + name, 0] for name in os.listdir(DOGS_PATH) if os.path.isfile(os.path.join(DOGS_PATH, name))])\n",
    "    #dog_imgs = dog_imgs[1:] # Remove the .DS_Store file\n",
    "    cat_imgs = np.array([[\"./catdog/CATS/\" + name, 1] for name in os.listdir(CATS_PATH) if os.path.isfile(os.path.join(CATS_PATH, name))])\n",
    "    #cat_imgs = cat_imgs[1:] # Remove the .DS_Store file\n",
    "    imgs = np.concatenate([dog_imgs, cat_imgs])\n",
    "\n",
    "\n",
    "    df = pd.DataFrame({\"image_id\": imgs[:, 0], \"abc\": np.full(imgs.shape[0], \"\"), \"label\": imgs[:, 1]})\n",
    "    df = df[df.image_id != DOGS_PATH + '.DS_Store'] # Remove the .DS_Store file\n",
    "    df = df[df.image_id != CATS_PATH + '.DS_Store'] # Remove the .DS_Store file\n",
    "    \n",
    "    \n",
    "    # Split each breed into 3 folds (A, B and C) with balanced breeds\n",
    "    classes = [('dog', DOGS_PATH), ('cat', CATS_PATH)]\n",
    "    breeds = np.arange(1, 13)\n",
    "    for animal, path in classes:\n",
    "        for breed in breeds:\n",
    "            breed_df = df[df.image_id.str.startswith(path + animal + '_{}_'.format(breed))]\n",
    "            num_images = breed_df.shape[0]\n",
    "            # Send first third of the breed to the A fold\n",
    "            for img_id in breed_df[:num_images//3].image_id:\n",
    "                df.loc[df.image_id == img_id, 'abc'] = 'A'\n",
    "            # Send second third of the breed to the B fold\n",
    "            for img_id in breed_df[num_images//3:num_images*2//3].image_id:\n",
    "                df.loc[df.image_id == img_id, 'abc'] = 'B'\n",
    "            # Send last third of the breed to the C fold\n",
    "            for img_id in breed_df[num_images*2//3:].image_id:\n",
    "                df.loc[df.image_id == img_id, 'abc'] = 'C'\n",
    "                \n",
    "    df.to_csv('catdogs.csv', index=False) # Save DataFrame as a csv file"
   ]
  },
  {
   "cell_type": "code",
   "execution_count": 8,
   "id": "average-tribune",
   "metadata": {
    "collapsed": true
   },
   "outputs": [
    {
     "data": {
      "text/html": [
       "<div>\n",
       "<style scoped>\n",
       "    .dataframe tbody tr th:only-of-type {\n",
       "        vertical-align: middle;\n",
       "    }\n",
       "\n",
       "    .dataframe tbody tr th {\n",
       "        vertical-align: top;\n",
       "    }\n",
       "\n",
       "    .dataframe thead th {\n",
       "        text-align: right;\n",
       "    }\n",
       "</style>\n",
       "<table border=\"1\" class=\"dataframe\">\n",
       "  <thead>\n",
       "    <tr style=\"text-align: right;\">\n",
       "      <th></th>\n",
       "      <th>image_id</th>\n",
       "      <th>abc</th>\n",
       "      <th>label</th>\n",
       "    </tr>\n",
       "  </thead>\n",
       "  <tbody>\n",
       "    <tr>\n",
       "      <th>0</th>\n",
       "      <td>./catdog/DOGS/dog_5_21.png</td>\n",
       "      <td>A</td>\n",
       "      <td>0</td>\n",
       "    </tr>\n",
       "    <tr>\n",
       "      <th>1</th>\n",
       "      <td>./catdog/DOGS/dog_10_0.png</td>\n",
       "      <td>A</td>\n",
       "      <td>0</td>\n",
       "    </tr>\n",
       "    <tr>\n",
       "      <th>2</th>\n",
       "      <td>./catdog/DOGS/dog_4_28.png</td>\n",
       "      <td>A</td>\n",
       "      <td>0</td>\n",
       "    </tr>\n",
       "    <tr>\n",
       "      <th>3</th>\n",
       "      <td>./catdog/DOGS/dog_7_2.png</td>\n",
       "      <td>A</td>\n",
       "      <td>0</td>\n",
       "    </tr>\n",
       "    <tr>\n",
       "      <th>4</th>\n",
       "      <td>./catdog/DOGS/dog_12_31.png</td>\n",
       "      <td>A</td>\n",
       "      <td>0</td>\n",
       "    </tr>\n",
       "    <tr>\n",
       "      <th>...</th>\n",
       "      <td>...</td>\n",
       "      <td>...</td>\n",
       "      <td>...</td>\n",
       "    </tr>\n",
       "    <tr>\n",
       "      <th>2383</th>\n",
       "      <td>./catdog/CATS/cat_9_95.png</td>\n",
       "      <td>C</td>\n",
       "      <td>1</td>\n",
       "    </tr>\n",
       "    <tr>\n",
       "      <th>2384</th>\n",
       "      <td>./catdog/CATS/cat_10_73.png</td>\n",
       "      <td>C</td>\n",
       "      <td>1</td>\n",
       "    </tr>\n",
       "    <tr>\n",
       "      <th>2385</th>\n",
       "      <td>./catdog/CATS/cat_9_21.png</td>\n",
       "      <td>C</td>\n",
       "      <td>1</td>\n",
       "    </tr>\n",
       "    <tr>\n",
       "      <th>2386</th>\n",
       "      <td>./catdog/CATS/cat_6_49.png</td>\n",
       "      <td>C</td>\n",
       "      <td>1</td>\n",
       "    </tr>\n",
       "    <tr>\n",
       "      <th>2387</th>\n",
       "      <td>./catdog/CATS/cat_9_58.png</td>\n",
       "      <td>C</td>\n",
       "      <td>1</td>\n",
       "    </tr>\n",
       "  </tbody>\n",
       "</table>\n",
       "<p>2388 rows × 3 columns</p>\n",
       "</div>"
      ],
      "text/plain": [
       "                         image_id abc  label\n",
       "0      ./catdog/DOGS/dog_5_21.png   A      0\n",
       "1      ./catdog/DOGS/dog_10_0.png   A      0\n",
       "2      ./catdog/DOGS/dog_4_28.png   A      0\n",
       "3       ./catdog/DOGS/dog_7_2.png   A      0\n",
       "4     ./catdog/DOGS/dog_12_31.png   A      0\n",
       "...                           ...  ..    ...\n",
       "2383   ./catdog/CATS/cat_9_95.png   C      1\n",
       "2384  ./catdog/CATS/cat_10_73.png   C      1\n",
       "2385   ./catdog/CATS/cat_9_21.png   C      1\n",
       "2386   ./catdog/CATS/cat_6_49.png   C      1\n",
       "2387   ./catdog/CATS/cat_9_58.png   C      1\n",
       "\n",
       "[2388 rows x 3 columns]"
      ]
     },
     "execution_count": 8,
     "metadata": {},
     "output_type": "execute_result"
    }
   ],
   "source": [
    "create_csv()\n",
    "\n",
    "df = pd.read_csv('catdogs.csv')\n",
    "df"
   ]
  },
  {
   "cell_type": "markdown",
   "id": "stupid-services",
   "metadata": {},
   "source": [
    "## Create three splits ([train=A+B, test=C], [train=A+C, test=B], [train=B+C, test=A])"
   ]
  },
  {
   "cell_type": "code",
   "execution_count": 54,
   "id": "endangered-ideal",
   "metadata": {},
   "outputs": [],
   "source": [
    "def create_splits(dataframe):\n",
    "\n",
    "    train_folds = [['A', 'B'], ['A', 'C'], ['B', 'C']]\n",
    "    splits = {}\n",
    "\n",
    "    # Create splits\n",
    "    for i, train in enumerate(train_folds):\n",
    "        split = {}\n",
    "        split['train'] = dataframe[dataframe.abc.isin(train)]\n",
    "        split['test'] = df[~dataframe.abc.isin(train)]\n",
    "\n",
    "        splits['split_{}'.format(i+1)] = split\n",
    "        \n",
    "    # Divide each split's training data into train (75%) and validation (25%) with balanced breeds\n",
    "    classes = [('dog', DOGS_PATH), ('cat', CATS_PATH)]\n",
    "    breeds = np.arange(1, 13)\n",
    "    for i in range(1, 4):\n",
    "        split_train = pd.DataFrame({\"image_id\": splits['split_{}'.format(i)]['train'].image_id,\n",
    "                                  \"train_val_test\": np.full(splits['split_{}'.format(i)]['train'].shape[0], \"\"),\n",
    "                                  \"label\": splits['split_{}'.format(i)]['train'].label})\n",
    "        for animal, path in classes:\n",
    "            for breed in breeds:\n",
    "                breed_df = split_train[split_train.image_id.str.startswith(path + animal + '_{}_'.format(breed))]\n",
    "                num_images = breed_df.shape[0]\n",
    "                # 75% training data\n",
    "                for img_id in breed_df[:num_images*3//4].image_id:\n",
    "                    split_train.loc[df.image_id == img_id, 'train_val_test'] = 'train'\n",
    "                # 25% validation data\n",
    "                for img_id in breed_df[num_images*3//4:].image_id:\n",
    "                    split_train.loc[df.image_id == img_id, 'train_val_test'] = 'val'\n",
    "                    \n",
    "        splits['split_{}'.format(i)]['train'] = split_train\n",
    "        splits['split_{}'.format(i)]['test'] = pd.DataFrame(\n",
    "                                    {\"image_id\": splits['split_{}'.format(i)]['test'].image_id,\n",
    "                                  \"train_val_test\": np.full(splits['split_{}'.format(i)]['test'].shape[0], \"test\"),\n",
    "                                  \"label\": splits['split_{}'.format(i)]['test'].label})\n",
    "        \n",
    "    return splits"
   ]
  },
  {
   "cell_type": "code",
   "execution_count": 55,
   "id": "found-vacuum",
   "metadata": {
    "scrolled": true
   },
   "outputs": [
    {
     "data": {
      "text/plain": [
       "{'split_1': {'train':                          image_id train_val_test  label\n",
       "  0      ./catdog/DOGS/dog_5_21.png          train      0\n",
       "  1      ./catdog/DOGS/dog_10_0.png          train      0\n",
       "  2      ./catdog/DOGS/dog_4_28.png          train      0\n",
       "  3       ./catdog/DOGS/dog_7_2.png          train      0\n",
       "  4     ./catdog/DOGS/dog_12_31.png          train      0\n",
       "  ...                           ...            ...    ...\n",
       "  2037   ./catdog/CATS/cat_9_64.png            val      1\n",
       "  2043   ./catdog/CATS/cat_6_68.png            val      1\n",
       "  2044   ./catdog/CATS/cat_8_82.png            val      1\n",
       "  2046   ./catdog/CATS/cat_6_11.png            val      1\n",
       "  2055   ./catdog/CATS/cat_6_65.png            val      1\n",
       "  \n",
       "  [1578 rows x 3 columns],\n",
       "  'test':                          image_id train_val_test  label\n",
       "  718   ./catdog/DOGS/dog_10_65.png           test      0\n",
       "  733   ./catdog/DOGS/dog_12_27.png           test      0\n",
       "  735   ./catdog/DOGS/dog_12_73.png           test      0\n",
       "  736   ./catdog/DOGS/dog_10_32.png           test      0\n",
       "  743   ./catdog/DOGS/dog_10_36.png           test      0\n",
       "  ...                           ...            ...    ...\n",
       "  2383   ./catdog/CATS/cat_9_95.png           test      1\n",
       "  2384  ./catdog/CATS/cat_10_73.png           test      1\n",
       "  2385   ./catdog/CATS/cat_9_21.png           test      1\n",
       "  2386   ./catdog/CATS/cat_6_49.png           test      1\n",
       "  2387   ./catdog/CATS/cat_9_58.png           test      1\n",
       "  \n",
       "  [810 rows x 3 columns]},\n",
       " 'split_2': {'train':                          image_id train_val_test  label\n",
       "  0      ./catdog/DOGS/dog_5_21.png          train      0\n",
       "  1      ./catdog/DOGS/dog_10_0.png          train      0\n",
       "  2      ./catdog/DOGS/dog_4_28.png          train      0\n",
       "  3       ./catdog/DOGS/dog_7_2.png          train      0\n",
       "  4     ./catdog/DOGS/dog_12_31.png          train      0\n",
       "  ...                           ...            ...    ...\n",
       "  2383   ./catdog/CATS/cat_9_95.png            val      1\n",
       "  2384  ./catdog/CATS/cat_10_73.png            val      1\n",
       "  2385   ./catdog/CATS/cat_9_21.png            val      1\n",
       "  2386   ./catdog/CATS/cat_6_49.png            val      1\n",
       "  2387   ./catdog/CATS/cat_9_58.png            val      1\n",
       "  \n",
       "  [1598 rows x 3 columns],\n",
       "  'test':                          image_id train_val_test  label\n",
       "  355   ./catdog/DOGS/dog_10_38.png           test      0\n",
       "  360    ./catdog/DOGS/dog_7_49.png           test      0\n",
       "  362   ./catdog/DOGS/dog_12_69.png           test      0\n",
       "  366   ./catdog/DOGS/dog_10_88.png           test      0\n",
       "  368    ./catdog/DOGS/dog_7_22.png           test      0\n",
       "  ...                           ...            ...    ...\n",
       "  2037   ./catdog/CATS/cat_9_64.png           test      1\n",
       "  2043   ./catdog/CATS/cat_6_68.png           test      1\n",
       "  2044   ./catdog/CATS/cat_8_82.png           test      1\n",
       "  2046   ./catdog/CATS/cat_6_11.png           test      1\n",
       "  2055   ./catdog/CATS/cat_6_65.png           test      1\n",
       "  \n",
       "  [790 rows x 3 columns]},\n",
       " 'split_3': {'train':                          image_id train_val_test  label\n",
       "  355   ./catdog/DOGS/dog_10_38.png          train      0\n",
       "  360    ./catdog/DOGS/dog_7_49.png          train      0\n",
       "  362   ./catdog/DOGS/dog_12_69.png          train      0\n",
       "  366   ./catdog/DOGS/dog_10_88.png          train      0\n",
       "  368    ./catdog/DOGS/dog_7_22.png          train      0\n",
       "  ...                           ...            ...    ...\n",
       "  2383   ./catdog/CATS/cat_9_95.png            val      1\n",
       "  2384  ./catdog/CATS/cat_10_73.png            val      1\n",
       "  2385   ./catdog/CATS/cat_9_21.png            val      1\n",
       "  2386   ./catdog/CATS/cat_6_49.png            val      1\n",
       "  2387   ./catdog/CATS/cat_9_58.png            val      1\n",
       "  \n",
       "  [1600 rows x 3 columns],\n",
       "  'test':                          image_id train_val_test  label\n",
       "  0      ./catdog/DOGS/dog_5_21.png           test      0\n",
       "  1      ./catdog/DOGS/dog_10_0.png           test      0\n",
       "  2      ./catdog/DOGS/dog_4_28.png           test      0\n",
       "  3       ./catdog/DOGS/dog_7_2.png           test      0\n",
       "  4     ./catdog/DOGS/dog_12_31.png           test      0\n",
       "  ...                           ...            ...    ...\n",
       "  1637   ./catdog/CATS/cat_8_65.png           test      1\n",
       "  1639   ./catdog/CATS/cat_8_50.png           test      1\n",
       "  1644    ./catdog/CATS/cat_4_7.png           test      1\n",
       "  1659   ./catdog/CATS/cat_8_59.png           test      1\n",
       "  1667   ./catdog/CATS/cat_8_10.png           test      1\n",
       "  \n",
       "  [788 rows x 3 columns]}}"
      ]
     },
     "execution_count": 55,
     "metadata": {},
     "output_type": "execute_result"
    }
   ],
   "source": [
    "splits = create_splits(df)\n",
    "splits"
   ]
  },
  {
   "cell_type": "code",
   "execution_count": 30,
   "id": "german-victim",
   "metadata": {},
   "outputs": [],
   "source": [
    "# Create folders to store the new splits in\n",
    "def create_dirs(root_dir, split_names, classes):\n",
    "    # Create root directory, if it does not exist\n",
    "    if not os.path.exists(root_dir):\n",
    "        os.makedirs(root_dir)\n",
    "    \n",
    "    for split_name in split_names:\n",
    "        # Create split directory, if it does not exist\n",
    "        if not os.path.exists(root_dir+split_name):\n",
    "            os.makedirs(root_dir+split_name)\n",
    "        \n",
    "        # Create train directory for the current split, if it does not exist\n",
    "        if not os.path.exists(root_dir+split_name+'/train/'):\n",
    "            os.makedirs(root_dir+split_name+'/train/')\n",
    "        # Create validation directory for the current split, if it does not exist\n",
    "        if not os.path.exists(root_dir+split_name+'/train/'):\n",
    "            os.makedirs(root_dir+split_name+'/val/')\n",
    "        # Create test directory for the current split, if it does not exist\n",
    "        if not os.path.exists(root_dir+split_name+'/test/'):\n",
    "            os.makedirs(root_dir+split_name+'/test/')\n",
    "\n",
    "        for c in classes:\n",
    "            # Create class directories for the current split, if it does not exist\n",
    "            if not os.path.exists(root_dir+split_name+'/train/'+c+'/'):\n",
    "                os.makedirs(root_dir+split_name+'/train/'+c+'/')\n",
    "            if not os.path.exists(root_dir+split_name+'/val/'+c+'/'):\n",
    "                os.makedirs(root_dir+split_name+'/val/'+c+'/')\n",
    "            if not os.path.exists(root_dir+split_name+'/test/'+c+'/'):\n",
    "                os.makedirs(root_dir+split_name+'/test/'+c+'/')"
   ]
  },
  {
   "cell_type": "code",
   "execution_count": 82,
   "id": "disabled-sapphire",
   "metadata": {},
   "outputs": [],
   "source": [
    "# Copy files from catdog directory to splits directory\n",
    "def copy_files(file_splits):\n",
    "    # Initial information definition\n",
    "    root_dir = './data/'\n",
    "    split_names = file_splits.keys()\n",
    "    classes = ['dog', 'cat']\n",
    "    # Create directories, if necessary\n",
    "    create_dirs(root_dir, splits, classes)\n",
    "    \n",
    "    print(\"Going through each split\")\n",
    "    for split_name in tqdm(split_names):\n",
    "        # Copy files to train and validation sets\n",
    "        train_df_dict = {}\n",
    "        train_files = []\n",
    "        train_labels = []\n",
    "        val_df_dict = {}\n",
    "        val_files = []\n",
    "        val_labels = []\n",
    "        test_df_dict = {}\n",
    "        test_files = []\n",
    "        test_labels = []\n",
    "\n",
    "        for row in tqdm(splits[split_name]['train'].itertuples()):\n",
    "            # row = (index, image_id, train_val_test, label)\n",
    "            old_path = row[1]\n",
    "            file_name = row[1].split('/')[-1]\n",
    "            data_set = row[2]\n",
    "            class_name = classes[row[3]]\n",
    "            new_path = root_dir + split_name + '/' + data_set + '/' + classes[row[3]] + '/' + file_name\n",
    "            #print(old_path, '\\t\\t', new_path)\n",
    "            copyfile(old_path, new_path)\n",
    "\n",
    "            # Store file names and labels\n",
    "            if data_set == 'train':\n",
    "                train_files.append(new_path)\n",
    "                train_labels.append(row[3])\n",
    "            else:\n",
    "                val_files.append(new_path)\n",
    "                val_labels.append(row[3])\n",
    "        for row in tqdm(splits[split_name]['test'].itertuples()):\n",
    "            # row = (index, image_id, train_val_test, label)\n",
    "            old_path = row[1]\n",
    "            file_name = row[1].split('/')[-1]\n",
    "            data_set = row[2]\n",
    "            class_name = classes[row[3]]\n",
    "            new_path = root_dir + split_name + '/' + data_set + '/' + classes[row[3]] + '/' + file_name\n",
    "            #print(old_path, '\\t\\t', new_path)\n",
    "            copyfile(old_path, new_path)\n",
    "\n",
    "            # Store file names and labels\n",
    "            test_files.append(new_path)\n",
    "            test_labels.append(row[3])\n",
    "\n",
    "        # Create .csv with training file names and labels\n",
    "        train_df_dict['image_id'] = train_files\n",
    "        train_df_dict['label'] = train_labels\n",
    "        file_name = root_dir+'/'+split_name+'/'+split_name+'_train.csv'\n",
    "        pd.DataFrame.from_dict(train_df_dict).to_csv(file_name, index=False)\n",
    "\n",
    "        # Create .csv with validation file names and labels\n",
    "        val_df_dict['image_id'] = val_files\n",
    "        val_df_dict['label'] = val_labels\n",
    "        file_name = root_dir+'/'+split_name+'/'+split_name+'_val.csv'\n",
    "        pd.DataFrame.from_dict(val_df_dict).to_csv(file_name, index=False)\n",
    "\n",
    "        # Create .csv with test file names and labels\n",
    "        test_df_dict['image_id'] = test_files\n",
    "        test_df_dict['label'] = test_labels\n",
    "        file_name = root_dir+'/'+split_name+'/'+split_name+'_test.csv'\n",
    "        pd.DataFrame.from_dict(test_df_dict).to_csv(file_name, index=False)  "
   ]
  },
  {
   "cell_type": "code",
   "execution_count": 84,
   "id": "entertaining-michael",
   "metadata": {},
   "outputs": [
    {
     "name": "stdout",
     "output_type": "stream",
     "text": [
      "Going through each split\n"
     ]
    },
    {
     "data": {
      "application/vnd.jupyter.widget-view+json": {
       "model_id": "2c8c37e99c4c44f0b38352d39afcd0c1",
       "version_major": 2,
       "version_minor": 0
      },
      "text/plain": [
       "  0%|          | 0/3 [00:00<?, ?it/s]"
      ]
     },
     "metadata": {},
     "output_type": "display_data"
    },
    {
     "data": {
      "application/vnd.jupyter.widget-view+json": {
       "model_id": "5c0d0597ff5e49819c588de147909cc9",
       "version_major": 2,
       "version_minor": 0
      },
      "text/plain": [
       "0it [00:00, ?it/s]"
      ]
     },
     "metadata": {},
     "output_type": "display_data"
    },
    {
     "data": {
      "application/vnd.jupyter.widget-view+json": {
       "model_id": "606b6065b3e945d08604da98939538a3",
       "version_major": 2,
       "version_minor": 0
      },
      "text/plain": [
       "0it [00:00, ?it/s]"
      ]
     },
     "metadata": {},
     "output_type": "display_data"
    },
    {
     "data": {
      "application/vnd.jupyter.widget-view+json": {
       "model_id": "9f18f8a5cbee47d799a499b556496ae6",
       "version_major": 2,
       "version_minor": 0
      },
      "text/plain": [
       "0it [00:00, ?it/s]"
      ]
     },
     "metadata": {},
     "output_type": "display_data"
    },
    {
     "data": {
      "application/vnd.jupyter.widget-view+json": {
       "model_id": "e0994740209f45c28ba6f43c4550e5e4",
       "version_major": 2,
       "version_minor": 0
      },
      "text/plain": [
       "0it [00:00, ?it/s]"
      ]
     },
     "metadata": {},
     "output_type": "display_data"
    },
    {
     "data": {
      "application/vnd.jupyter.widget-view+json": {
       "model_id": "53795ef903b840a592f5e4c987a723ea",
       "version_major": 2,
       "version_minor": 0
      },
      "text/plain": [
       "0it [00:00, ?it/s]"
      ]
     },
     "metadata": {},
     "output_type": "display_data"
    },
    {
     "data": {
      "application/vnd.jupyter.widget-view+json": {
       "model_id": "af686a3155c94f93823b3b975948f19e",
       "version_major": 2,
       "version_minor": 0
      },
      "text/plain": [
       "0it [00:00, ?it/s]"
      ]
     },
     "metadata": {},
     "output_type": "display_data"
    }
   ],
   "source": [
    "copy_files(splits)"
   ]
  },
  {
   "cell_type": "code",
   "execution_count": null,
   "id": "closed-round",
   "metadata": {},
   "outputs": [],
   "source": []
  }
 ],
 "metadata": {
  "kernelspec": {
   "display_name": "Python 3",
   "language": "python",
   "name": "python3"
  },
  "language_info": {
   "codemirror_mode": {
    "name": "ipython",
    "version": 3
   },
   "file_extension": ".py",
   "mimetype": "text/x-python",
   "name": "python",
   "nbconvert_exporter": "python",
   "pygments_lexer": "ipython3",
   "version": "3.7.9"
  }
 },
 "nbformat": 4,
 "nbformat_minor": 5
}
