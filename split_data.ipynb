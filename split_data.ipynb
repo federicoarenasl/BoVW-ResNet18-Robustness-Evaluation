{
 "cells": [
  {
   "cell_type": "code",
   "execution_count": 1,
   "id": "unnecessary-grave",
   "metadata": {},
   "outputs": [],
   "source": [
    "# Library imports\n",
    "import os.path\n",
    "from os import path\n",
    "import numpy as np\n",
    "import pandas as pd\n",
    "from PIL import Image\n",
    "import matplotlib.pyplot as plt\n",
    "\n",
    "import torch\n",
    "from torch.utils.data import Sampler\n",
    "from torch.utils.data import Dataset\n",
    "from torch.utils.data import DataLoader\n",
    "from torch.utils.data import BatchSampler\n",
    "from torchvision.transforms import transforms\n",
    "from sklearn.model_selection import StratifiedKFold\n",
    "from sklearn.model_selection import StratifiedShuffleSplit\n",
    "from PIL import Image\n",
    "from tqdm.notebook import trange, tqdm\n",
    "from shutil import copyfile\n",
    "from sklearn.utils import shuffle\n",
    "\n",
    "# Define data paths\n",
    "DOGS_PATH = \"./catdog/DOGS/\"\n",
    "CATS_PATH = \"./catdog/CATS/\"\n",
    "DATA_PATH = \"./catdogs.csv\""
   ]
  },
  {
   "cell_type": "markdown",
   "id": "ecological-edgar",
   "metadata": {},
   "source": [
    "## Create .csv file with all the data"
   ]
  },
  {
   "cell_type": "code",
   "execution_count": 2,
   "id": "removed-crown",
   "metadata": {},
   "outputs": [],
   "source": [
    "# Create csv file of all data paths\n",
    "def create_csv():\n",
    "    dog_imgs = np.array([[\"./catdog/DOGS/\" + name, 0] for name in os.listdir(DOGS_PATH) if os.path.isfile(os.path.join(DOGS_PATH, name))])\n",
    "    #dog_imgs = dog_imgs[1:] # Remove the .DS_Store file\n",
    "    cat_imgs = np.array([[\"./catdog/CATS/\" + name, 1] for name in os.listdir(CATS_PATH) if os.path.isfile(os.path.join(CATS_PATH, name))])\n",
    "    #cat_imgs = cat_imgs[1:] # Remove the .DS_Store file\n",
    "    imgs = np.concatenate([dog_imgs, cat_imgs])\n",
    "\n",
    "\n",
    "    df = pd.DataFrame({\"image_id\": imgs[:, 0], \"abc\": np.full(imgs.shape[0], \"\"), \"label\": imgs[:, 1]})\n",
    "    df = df[df.image_id != DOGS_PATH + '.DS_Store'] # Remove the .DS_Store file\n",
    "    df = df[df.image_id != CATS_PATH + '.DS_Store'] # Remove the .DS_Store file\n",
    "    \n",
    "    \n",
    "    # Split each breed into 3 folds (A, B and C) with balanced breeds\n",
    "    classes = [('dog', DOGS_PATH), ('cat', CATS_PATH)]\n",
    "    breeds = np.arange(1, 13)\n",
    "    for animal, path in classes:\n",
    "        for breed in breeds:\n",
    "            breed_df = df[df.image_id.str.startswith(path + animal + '_{}_'.format(breed))]\n",
    "            num_images = breed_df.shape[0]\n",
    "            # Send first third of the breed to the A fold\n",
    "            for img_id in breed_df[:num_images//3].image_id:\n",
    "                df.loc[df.image_id == img_id, 'abc'] = 'A'\n",
    "            # Send second third of the breed to the B fold\n",
    "            for img_id in breed_df[num_images//3:num_images*2//3].image_id:\n",
    "                df.loc[df.image_id == img_id, 'abc'] = 'B'\n",
    "            # Send last third of the breed to the C fold\n",
    "            for img_id in breed_df[num_images*2//3:].image_id:\n",
    "                df.loc[df.image_id == img_id, 'abc'] = 'C'\n",
    "                \n",
    "    df.to_csv('catdogs.csv', index=False) # Save DataFrame as a csv file"
   ]
  },
  {
   "cell_type": "code",
   "execution_count": 3,
   "id": "average-tribune",
   "metadata": {
    "collapsed": true
   },
   "outputs": [
    {
     "data": {
      "text/html": [
       "<div>\n",
       "<style scoped>\n",
       "    .dataframe tbody tr th:only-of-type {\n",
       "        vertical-align: middle;\n",
       "    }\n",
       "\n",
       "    .dataframe tbody tr th {\n",
       "        vertical-align: top;\n",
       "    }\n",
       "\n",
       "    .dataframe thead th {\n",
       "        text-align: right;\n",
       "    }\n",
       "</style>\n",
       "<table border=\"1\" class=\"dataframe\">\n",
       "  <thead>\n",
       "    <tr style=\"text-align: right;\">\n",
       "      <th></th>\n",
       "      <th>image_id</th>\n",
       "      <th>abc</th>\n",
       "      <th>label</th>\n",
       "    </tr>\n",
       "  </thead>\n",
       "  <tbody>\n",
       "    <tr>\n",
       "      <th>0</th>\n",
       "      <td>./catdog/DOGS/dog_5_21.png</td>\n",
       "      <td>A</td>\n",
       "      <td>0</td>\n",
       "    </tr>\n",
       "    <tr>\n",
       "      <th>1</th>\n",
       "      <td>./catdog/DOGS/dog_10_0.png</td>\n",
       "      <td>A</td>\n",
       "      <td>0</td>\n",
       "    </tr>\n",
       "    <tr>\n",
       "      <th>2</th>\n",
       "      <td>./catdog/DOGS/dog_4_28.png</td>\n",
       "      <td>A</td>\n",
       "      <td>0</td>\n",
       "    </tr>\n",
       "    <tr>\n",
       "      <th>3</th>\n",
       "      <td>./catdog/DOGS/dog_7_2.png</td>\n",
       "      <td>A</td>\n",
       "      <td>0</td>\n",
       "    </tr>\n",
       "    <tr>\n",
       "      <th>4</th>\n",
       "      <td>./catdog/DOGS/dog_12_31.png</td>\n",
       "      <td>A</td>\n",
       "      <td>0</td>\n",
       "    </tr>\n",
       "    <tr>\n",
       "      <th>...</th>\n",
       "      <td>...</td>\n",
       "      <td>...</td>\n",
       "      <td>...</td>\n",
       "    </tr>\n",
       "    <tr>\n",
       "      <th>2383</th>\n",
       "      <td>./catdog/CATS/cat_9_95.png</td>\n",
       "      <td>C</td>\n",
       "      <td>1</td>\n",
       "    </tr>\n",
       "    <tr>\n",
       "      <th>2384</th>\n",
       "      <td>./catdog/CATS/cat_10_73.png</td>\n",
       "      <td>C</td>\n",
       "      <td>1</td>\n",
       "    </tr>\n",
       "    <tr>\n",
       "      <th>2385</th>\n",
       "      <td>./catdog/CATS/cat_9_21.png</td>\n",
       "      <td>C</td>\n",
       "      <td>1</td>\n",
       "    </tr>\n",
       "    <tr>\n",
       "      <th>2386</th>\n",
       "      <td>./catdog/CATS/cat_6_49.png</td>\n",
       "      <td>C</td>\n",
       "      <td>1</td>\n",
       "    </tr>\n",
       "    <tr>\n",
       "      <th>2387</th>\n",
       "      <td>./catdog/CATS/cat_9_58.png</td>\n",
       "      <td>C</td>\n",
       "      <td>1</td>\n",
       "    </tr>\n",
       "  </tbody>\n",
       "</table>\n",
       "<p>2388 rows × 3 columns</p>\n",
       "</div>"
      ],
      "text/plain": [
       "                         image_id abc  label\n",
       "0      ./catdog/DOGS/dog_5_21.png   A      0\n",
       "1      ./catdog/DOGS/dog_10_0.png   A      0\n",
       "2      ./catdog/DOGS/dog_4_28.png   A      0\n",
       "3       ./catdog/DOGS/dog_7_2.png   A      0\n",
       "4     ./catdog/DOGS/dog_12_31.png   A      0\n",
       "...                           ...  ..    ...\n",
       "2383   ./catdog/CATS/cat_9_95.png   C      1\n",
       "2384  ./catdog/CATS/cat_10_73.png   C      1\n",
       "2385   ./catdog/CATS/cat_9_21.png   C      1\n",
       "2386   ./catdog/CATS/cat_6_49.png   C      1\n",
       "2387   ./catdog/CATS/cat_9_58.png   C      1\n",
       "\n",
       "[2388 rows x 3 columns]"
      ]
     },
     "execution_count": 3,
     "metadata": {},
     "output_type": "execute_result"
    }
   ],
   "source": [
    "create_csv()\n",
    "\n",
    "df = pd.read_csv('catdogs.csv')\n",
    "df"
   ]
  },
  {
   "cell_type": "markdown",
   "id": "stupid-services",
   "metadata": {},
   "source": [
    "## Create three splits ([train=A+B, test=C], [train=A+C, test=B], [train=B+C, test=A])"
   ]
  },
  {
   "cell_type": "code",
   "execution_count": 4,
   "id": "brown-denver",
   "metadata": {},
   "outputs": [],
   "source": [
    "def split(dataframe, full_split=False):\n",
    "    train_folds = [['A', 'B'], ['A', 'C'], ['B', 'C']]\n",
    "\n",
    "    splits = {}\n",
    "    for i, train in enumerate(train_folds):\n",
    "        split = {}\n",
    "        split['train'] = dataframe[dataframe.abc.isin(train)]\n",
    "        split['test'] = dataframe[~dataframe.abc.isin(train)]\n",
    "\n",
    "        if full_split:\n",
    "            splits['full_split_{}'.format(i+1)] = split\n",
    "        else:\n",
    "            splits['split_{}'.format(i+1)] = split\n",
    "\n",
    "    return splits"
   ]
  },
  {
   "cell_type": "code",
   "execution_count": 5,
   "id": "korean-easter",
   "metadata": {},
   "outputs": [],
   "source": [
    "# Divide each split's training data into train (75%) and validation (25%) with balanced breeds\n",
    "def divide_train_val_test(dataframe, splits):\n",
    "    classes = [('dog', DOGS_PATH), ('cat', CATS_PATH)]\n",
    "    breeds = np.arange(1, 13)\n",
    "    for i in range(1, 4):\n",
    "        split_train = pd.DataFrame(\n",
    "                                { \"image_id\": splits['split_{}'.format(i)]['train'].image_id,\n",
    "                                  \"train_val_test\": np.full(splits['split_{}'.format(i)]['train'].shape[0], \"\"),\n",
    "                                  \"label\": splits['split_{}'.format(i)]['train'].label\n",
    "                                })\n",
    "        for animal, path in classes:\n",
    "            for breed in breeds:\n",
    "                breed_df = split_train[split_train.image_id.str.startswith(path + animal + '_{}_'.format(breed))]\n",
    "                num_images = breed_df.shape[0]\n",
    "                # 75% training data\n",
    "                for img_id in breed_df[:num_images*3//4].image_id:\n",
    "                    split_train.loc[dataframe.image_id == img_id, 'train_val_test'] = 'train'\n",
    "                # 25% validation data\n",
    "                for img_id in breed_df[num_images*3//4:].image_id:\n",
    "                    split_train.loc[dataframe.image_id == img_id, 'train_val_test'] = 'val'\n",
    "                    \n",
    "        splits['split_{}'.format(i)]['train'] = split_train\n",
    "        splits['split_{}'.format(i)]['test'] = pd.DataFrame(\n",
    "                                { \"image_id\": splits['split_{}'.format(i)]['test'].image_id,\n",
    "                                  \"train_val_test\": np.full(splits['split_{}'.format(i)]['test'].shape[0], \"test\"),\n",
    "                                  \"label\": splits['split_{}'.format(i)]['test'].label\n",
    "                                })\n",
    "\n",
    "    return splits"
   ]
  },
  {
   "cell_type": "code",
   "execution_count": 6,
   "id": "talented-terrace",
   "metadata": {},
   "outputs": [],
   "source": [
    "# Changes test data to validation to be compatible with the Resnet's dataloaders\n",
    "# There is no test set\n",
    "def divide_train_val(dataframe, splits):    \n",
    "    for i in range(1, 4):\n",
    "        splits['full_split_{}'.format(i)]['train'] = pd.DataFrame(\n",
    "                                { \"image_id\": splits['full_split_{}'.format(i)]['train'].image_id,\n",
    "                                  \"train_val_test\": np.full(splits['full_split_{}'.format(i)]['train'].shape[0], \"train\"),\n",
    "                                  \"label\": splits['full_split_{}'.format(i)]['train'].label\n",
    "                                })\n",
    "        splits['full_split_{}'.format(i)]['test'] = pd.DataFrame(\n",
    "                                { \"image_id\": splits['full_split_{}'.format(i)]['test'].image_id,\n",
    "                                  \"train_val_test\": np.full(splits['full_split_{}'.format(i)]['test'].shape[0], \"val\"),\n",
    "                                  \"label\": splits['full_split_{}'.format(i)]['test'].label\n",
    "                                })\n",
    "                        \n",
    "    return splits"
   ]
  },
  {
   "cell_type": "code",
   "execution_count": 7,
   "id": "endangered-ideal",
   "metadata": {},
   "outputs": [],
   "source": [
    "# Create three splits ([train=A+B, test=C], [train=A+C, test=B], [train=B+C, test=A])\n",
    "def create_splits(dataframe, full_split=False):\n",
    "    # Create splits\n",
    "    splits = split(dataframe, full_split)\n",
    "\n",
    "    if full_split:\n",
    "        splits = divide_train_val(dataframe, splits)        \n",
    "    else:\n",
    "        splits = divide_train_val_test(dataframe, splits)\n",
    "        \n",
    "    return splits"
   ]
  },
  {
   "cell_type": "code",
   "execution_count": 8,
   "id": "found-vacuum",
   "metadata": {
    "collapsed": true
   },
   "outputs": [
    {
     "data": {
      "text/plain": [
       "{'split_1': {'train':                          image_id train_val_test  label\n",
       "  0      ./catdog/DOGS/dog_5_21.png          train      0\n",
       "  1      ./catdog/DOGS/dog_10_0.png          train      0\n",
       "  2      ./catdog/DOGS/dog_4_28.png          train      0\n",
       "  3       ./catdog/DOGS/dog_7_2.png          train      0\n",
       "  4     ./catdog/DOGS/dog_12_31.png          train      0\n",
       "  ...                           ...            ...    ...\n",
       "  2037   ./catdog/CATS/cat_9_64.png            val      1\n",
       "  2043   ./catdog/CATS/cat_6_68.png            val      1\n",
       "  2044   ./catdog/CATS/cat_8_82.png            val      1\n",
       "  2046   ./catdog/CATS/cat_6_11.png            val      1\n",
       "  2055   ./catdog/CATS/cat_6_65.png            val      1\n",
       "  \n",
       "  [1578 rows x 3 columns],\n",
       "  'test':                          image_id train_val_test  label\n",
       "  718   ./catdog/DOGS/dog_10_65.png           test      0\n",
       "  733   ./catdog/DOGS/dog_12_27.png           test      0\n",
       "  735   ./catdog/DOGS/dog_12_73.png           test      0\n",
       "  736   ./catdog/DOGS/dog_10_32.png           test      0\n",
       "  743   ./catdog/DOGS/dog_10_36.png           test      0\n",
       "  ...                           ...            ...    ...\n",
       "  2383   ./catdog/CATS/cat_9_95.png           test      1\n",
       "  2384  ./catdog/CATS/cat_10_73.png           test      1\n",
       "  2385   ./catdog/CATS/cat_9_21.png           test      1\n",
       "  2386   ./catdog/CATS/cat_6_49.png           test      1\n",
       "  2387   ./catdog/CATS/cat_9_58.png           test      1\n",
       "  \n",
       "  [810 rows x 3 columns]},\n",
       " 'split_2': {'train':                          image_id train_val_test  label\n",
       "  0      ./catdog/DOGS/dog_5_21.png          train      0\n",
       "  1      ./catdog/DOGS/dog_10_0.png          train      0\n",
       "  2      ./catdog/DOGS/dog_4_28.png          train      0\n",
       "  3       ./catdog/DOGS/dog_7_2.png          train      0\n",
       "  4     ./catdog/DOGS/dog_12_31.png          train      0\n",
       "  ...                           ...            ...    ...\n",
       "  2383   ./catdog/CATS/cat_9_95.png            val      1\n",
       "  2384  ./catdog/CATS/cat_10_73.png            val      1\n",
       "  2385   ./catdog/CATS/cat_9_21.png            val      1\n",
       "  2386   ./catdog/CATS/cat_6_49.png            val      1\n",
       "  2387   ./catdog/CATS/cat_9_58.png            val      1\n",
       "  \n",
       "  [1598 rows x 3 columns],\n",
       "  'test':                          image_id train_val_test  label\n",
       "  355   ./catdog/DOGS/dog_10_38.png           test      0\n",
       "  360    ./catdog/DOGS/dog_7_49.png           test      0\n",
       "  362   ./catdog/DOGS/dog_12_69.png           test      0\n",
       "  366   ./catdog/DOGS/dog_10_88.png           test      0\n",
       "  368    ./catdog/DOGS/dog_7_22.png           test      0\n",
       "  ...                           ...            ...    ...\n",
       "  2037   ./catdog/CATS/cat_9_64.png           test      1\n",
       "  2043   ./catdog/CATS/cat_6_68.png           test      1\n",
       "  2044   ./catdog/CATS/cat_8_82.png           test      1\n",
       "  2046   ./catdog/CATS/cat_6_11.png           test      1\n",
       "  2055   ./catdog/CATS/cat_6_65.png           test      1\n",
       "  \n",
       "  [790 rows x 3 columns]},\n",
       " 'split_3': {'train':                          image_id train_val_test  label\n",
       "  355   ./catdog/DOGS/dog_10_38.png          train      0\n",
       "  360    ./catdog/DOGS/dog_7_49.png          train      0\n",
       "  362   ./catdog/DOGS/dog_12_69.png          train      0\n",
       "  366   ./catdog/DOGS/dog_10_88.png          train      0\n",
       "  368    ./catdog/DOGS/dog_7_22.png          train      0\n",
       "  ...                           ...            ...    ...\n",
       "  2383   ./catdog/CATS/cat_9_95.png            val      1\n",
       "  2384  ./catdog/CATS/cat_10_73.png            val      1\n",
       "  2385   ./catdog/CATS/cat_9_21.png            val      1\n",
       "  2386   ./catdog/CATS/cat_6_49.png            val      1\n",
       "  2387   ./catdog/CATS/cat_9_58.png            val      1\n",
       "  \n",
       "  [1600 rows x 3 columns],\n",
       "  'test':                          image_id train_val_test  label\n",
       "  0      ./catdog/DOGS/dog_5_21.png           test      0\n",
       "  1      ./catdog/DOGS/dog_10_0.png           test      0\n",
       "  2      ./catdog/DOGS/dog_4_28.png           test      0\n",
       "  3       ./catdog/DOGS/dog_7_2.png           test      0\n",
       "  4     ./catdog/DOGS/dog_12_31.png           test      0\n",
       "  ...                           ...            ...    ...\n",
       "  1637   ./catdog/CATS/cat_8_65.png           test      1\n",
       "  1639   ./catdog/CATS/cat_8_50.png           test      1\n",
       "  1644    ./catdog/CATS/cat_4_7.png           test      1\n",
       "  1659   ./catdog/CATS/cat_8_59.png           test      1\n",
       "  1667   ./catdog/CATS/cat_8_10.png           test      1\n",
       "  \n",
       "  [788 rows x 3 columns]}}"
      ]
     },
     "execution_count": 8,
     "metadata": {},
     "output_type": "execute_result"
    }
   ],
   "source": [
    "splits = create_splits(df)\n",
    "splits"
   ]
  },
  {
   "cell_type": "code",
   "execution_count": 9,
   "id": "entitled-booking",
   "metadata": {
    "collapsed": true
   },
   "outputs": [
    {
     "data": {
      "text/plain": [
       "{'full_split_1': {'train':                          image_id train_val_test  label\n",
       "  0      ./catdog/DOGS/dog_5_21.png          train      0\n",
       "  1      ./catdog/DOGS/dog_10_0.png          train      0\n",
       "  2      ./catdog/DOGS/dog_4_28.png          train      0\n",
       "  3       ./catdog/DOGS/dog_7_2.png          train      0\n",
       "  4     ./catdog/DOGS/dog_12_31.png          train      0\n",
       "  ...                           ...            ...    ...\n",
       "  2037   ./catdog/CATS/cat_9_64.png          train      1\n",
       "  2043   ./catdog/CATS/cat_6_68.png          train      1\n",
       "  2044   ./catdog/CATS/cat_8_82.png          train      1\n",
       "  2046   ./catdog/CATS/cat_6_11.png          train      1\n",
       "  2055   ./catdog/CATS/cat_6_65.png          train      1\n",
       "  \n",
       "  [1578 rows x 3 columns],\n",
       "  'test':                          image_id train_val_test  label\n",
       "  718   ./catdog/DOGS/dog_10_65.png            val      0\n",
       "  733   ./catdog/DOGS/dog_12_27.png            val      0\n",
       "  735   ./catdog/DOGS/dog_12_73.png            val      0\n",
       "  736   ./catdog/DOGS/dog_10_32.png            val      0\n",
       "  743   ./catdog/DOGS/dog_10_36.png            val      0\n",
       "  ...                           ...            ...    ...\n",
       "  2383   ./catdog/CATS/cat_9_95.png            val      1\n",
       "  2384  ./catdog/CATS/cat_10_73.png            val      1\n",
       "  2385   ./catdog/CATS/cat_9_21.png            val      1\n",
       "  2386   ./catdog/CATS/cat_6_49.png            val      1\n",
       "  2387   ./catdog/CATS/cat_9_58.png            val      1\n",
       "  \n",
       "  [810 rows x 3 columns]},\n",
       " 'full_split_2': {'train':                          image_id train_val_test  label\n",
       "  0      ./catdog/DOGS/dog_5_21.png          train      0\n",
       "  1      ./catdog/DOGS/dog_10_0.png          train      0\n",
       "  2      ./catdog/DOGS/dog_4_28.png          train      0\n",
       "  3       ./catdog/DOGS/dog_7_2.png          train      0\n",
       "  4     ./catdog/DOGS/dog_12_31.png          train      0\n",
       "  ...                           ...            ...    ...\n",
       "  2383   ./catdog/CATS/cat_9_95.png          train      1\n",
       "  2384  ./catdog/CATS/cat_10_73.png          train      1\n",
       "  2385   ./catdog/CATS/cat_9_21.png          train      1\n",
       "  2386   ./catdog/CATS/cat_6_49.png          train      1\n",
       "  2387   ./catdog/CATS/cat_9_58.png          train      1\n",
       "  \n",
       "  [1598 rows x 3 columns],\n",
       "  'test':                          image_id train_val_test  label\n",
       "  355   ./catdog/DOGS/dog_10_38.png            val      0\n",
       "  360    ./catdog/DOGS/dog_7_49.png            val      0\n",
       "  362   ./catdog/DOGS/dog_12_69.png            val      0\n",
       "  366   ./catdog/DOGS/dog_10_88.png            val      0\n",
       "  368    ./catdog/DOGS/dog_7_22.png            val      0\n",
       "  ...                           ...            ...    ...\n",
       "  2037   ./catdog/CATS/cat_9_64.png            val      1\n",
       "  2043   ./catdog/CATS/cat_6_68.png            val      1\n",
       "  2044   ./catdog/CATS/cat_8_82.png            val      1\n",
       "  2046   ./catdog/CATS/cat_6_11.png            val      1\n",
       "  2055   ./catdog/CATS/cat_6_65.png            val      1\n",
       "  \n",
       "  [790 rows x 3 columns]},\n",
       " 'full_split_3': {'train':                          image_id train_val_test  label\n",
       "  355   ./catdog/DOGS/dog_10_38.png          train      0\n",
       "  360    ./catdog/DOGS/dog_7_49.png          train      0\n",
       "  362   ./catdog/DOGS/dog_12_69.png          train      0\n",
       "  366   ./catdog/DOGS/dog_10_88.png          train      0\n",
       "  368    ./catdog/DOGS/dog_7_22.png          train      0\n",
       "  ...                           ...            ...    ...\n",
       "  2383   ./catdog/CATS/cat_9_95.png          train      1\n",
       "  2384  ./catdog/CATS/cat_10_73.png          train      1\n",
       "  2385   ./catdog/CATS/cat_9_21.png          train      1\n",
       "  2386   ./catdog/CATS/cat_6_49.png          train      1\n",
       "  2387   ./catdog/CATS/cat_9_58.png          train      1\n",
       "  \n",
       "  [1600 rows x 3 columns],\n",
       "  'test':                          image_id train_val_test  label\n",
       "  0      ./catdog/DOGS/dog_5_21.png            val      0\n",
       "  1      ./catdog/DOGS/dog_10_0.png            val      0\n",
       "  2      ./catdog/DOGS/dog_4_28.png            val      0\n",
       "  3       ./catdog/DOGS/dog_7_2.png            val      0\n",
       "  4     ./catdog/DOGS/dog_12_31.png            val      0\n",
       "  ...                           ...            ...    ...\n",
       "  1637   ./catdog/CATS/cat_8_65.png            val      1\n",
       "  1639   ./catdog/CATS/cat_8_50.png            val      1\n",
       "  1644    ./catdog/CATS/cat_4_7.png            val      1\n",
       "  1659   ./catdog/CATS/cat_8_59.png            val      1\n",
       "  1667   ./catdog/CATS/cat_8_10.png            val      1\n",
       "  \n",
       "  [788 rows x 3 columns]}}"
      ]
     },
     "execution_count": 9,
     "metadata": {},
     "output_type": "execute_result"
    }
   ],
   "source": [
    "full_splits = create_splits(df, full_split=True)\n",
    "full_splits"
   ]
  },
  {
   "cell_type": "code",
   "execution_count": 10,
   "id": "taken-residence",
   "metadata": {},
   "outputs": [],
   "source": [
    "# Create directory if it does not exist\n",
    "def create_dir(directory):\n",
    "    if not os.path.exists(directory):\n",
    "        os.makedirs(directory)"
   ]
  },
  {
   "cell_type": "code",
   "execution_count": 11,
   "id": "german-victim",
   "metadata": {},
   "outputs": [],
   "source": [
    "# Create directories to store the new splits in\n",
    "def create_dirs(root_dir, split_names, classes):\n",
    "    # Create root directory\n",
    "    create_dir(root_dir)\n",
    "    \n",
    "    for split_name in split_names:\n",
    "        # Create split directory\n",
    "        create_dir(root_dir+split_name)\n",
    "\n",
    "        # Create full_split directory\n",
    "        create_dir(root_dir+'full_'+split_name)\n",
    "        \n",
    "        # Create train directory for the current split\n",
    "        create_dir(root_dir+split_name+'/train/')\n",
    "        # Create validation directory for the current split\n",
    "        create_dir(root_dir+split_name+'/val/')\n",
    "        # Create test directory for the current split\n",
    "        create_dir(root_dir+split_name+'/test/')\n",
    "\n",
    "        # Create train directory for the current full_split\n",
    "        create_dir(root_dir+'full_'+split_name+'/train/')\n",
    "        # Create validation directory for the current split\n",
    "        create_dir(root_dir+'full_'+split_name+'/val/')\n",
    "\n",
    "        for c in classes:\n",
    "            # Create class directories for the current split\n",
    "            create_dir(root_dir+split_name+'/train/'+c+'/')\n",
    "            create_dir(root_dir+split_name+'/val/'+c+'/')\n",
    "            create_dir(root_dir+split_name+'/test/'+c+'/')\n",
    "\n",
    "            # Create class directories for the current full_split\n",
    "            create_dir(root_dir+'full_'+split_name+'/train/'+c+'/')\n",
    "            create_dir(root_dir+'full_'+split_name+'/val/'+c+'/')"
   ]
  },
  {
   "cell_type": "code",
   "execution_count": 15,
   "id": "disabled-sapphire",
   "metadata": {},
   "outputs": [],
   "source": [
    "# Copy files from catdog directory to splits directory\n",
    "def copy_files(splits, full_split=False):\n",
    "    # Initial information definition\n",
    "    root_dir = './data/'\n",
    "    split_names = splits.keys()\n",
    "    classes = ['dog', 'cat']\n",
    "    # Create directories, if necessary\n",
    "    if not os.path.exists(root_dir):\n",
    "        print(\"Creating data directories...\")\n",
    "        create_dirs(root_dir, splits, classes)\n",
    "    \n",
    "    print(\"Going through each split\")\n",
    "    for split_name in tqdm(split_names):\n",
    "        # Copy files to train and validation sets\n",
    "        train_df_dict = {}\n",
    "        train_files = []\n",
    "        train_labels = []\n",
    "        val_df_dict = {}\n",
    "        val_files = []\n",
    "        val_labels = []\n",
    "        test_df_dict = {}\n",
    "        test_files = []\n",
    "        test_labels = []\n",
    "\n",
    "        for row in tqdm(splits[split_name]['train'].itertuples()):\n",
    "            # row = (index, image_id, train_val_test, label)\n",
    "            old_path = row[1]\n",
    "            file_name = row[1].split('/')[-1]\n",
    "            data_set = row[2]\n",
    "            class_name = classes[row[3]]\n",
    "            new_path = root_dir + split_name + '/' + data_set + '/' + classes[row[3]] + '/' + file_name\n",
    "            #print(old_path, '\\t\\t', new_path)\n",
    "            copyfile(old_path, new_path)\n",
    "\n",
    "            # Store file names and labels\n",
    "            if data_set == 'train':\n",
    "                train_files.append(new_path)\n",
    "                train_labels.append(row[3])\n",
    "            else:\n",
    "                val_files.append(new_path)\n",
    "                val_labels.append(row[3])\n",
    "        for row in tqdm(splits[split_name]['test'].itertuples()):\n",
    "            # row = (index, image_id, train_val_test, label)\n",
    "            old_path = row[1]\n",
    "            file_name = row[1].split('/')[-1]\n",
    "            data_set = row[2]\n",
    "            class_name = classes[row[3]]\n",
    "            new_path = root_dir + split_name + '/' + data_set + '/' + classes[row[3]] + '/' + file_name\n",
    "            #print(old_path, '\\t\\t', new_path)\n",
    "            copyfile(old_path, new_path)\n",
    "\n",
    "            # Store file names and labels\n",
    "            test_files.append(new_path)\n",
    "            test_labels.append(row[3])\n",
    "\n",
    "        # Create .csv with training file names and labels\n",
    "        train_df_dict['image_id'] = train_files\n",
    "        train_df_dict['label'] = train_labels\n",
    "        file_name = root_dir+'/'+split_name+'/'+split_name+'_train.csv'\n",
    "        pd.DataFrame.from_dict(train_df_dict).to_csv(file_name, index=False)\n",
    "\n",
    "        # Create .csv with validation file names and labels\n",
    "        if not full_split:\n",
    "            val_df_dict['image_id'] = val_files\n",
    "            val_df_dict['label'] = val_labels\n",
    "            file_name = root_dir+'/'+split_name+'/'+split_name+'_val.csv'\n",
    "            pd.DataFrame.from_dict(val_df_dict).to_csv(file_name, index=False)\n",
    "\n",
    "        # Create .csv with test file names and labels\n",
    "        test_df_dict['image_id'] = test_files\n",
    "        test_df_dict['label'] = test_labels\n",
    "        if full_split:\n",
    "            file_name = root_dir+'/'+split_name+'/'+split_name+'_val.csv'\n",
    "            pd.DataFrame.from_dict(test_df_dict).to_csv(file_name, index=False)  \n",
    "        else:\n",
    "            file_name = root_dir+'/'+split_name+'/'+split_name+'_test.csv'\n",
    "            pd.DataFrame.from_dict(test_df_dict).to_csv(file_name, index=False)"
   ]
  },
  {
   "cell_type": "code",
   "execution_count": 18,
   "id": "entertaining-michael",
   "metadata": {},
   "outputs": [
    {
     "name": "stdout",
     "output_type": "stream",
     "text": [
      "Creating data directories...\n",
      "Going through each split\n"
     ]
    },
    {
     "data": {
      "application/vnd.jupyter.widget-view+json": {
       "model_id": "533e63adcb5a41aab98e90a10f80cbcd",
       "version_major": 2,
       "version_minor": 0
      },
      "text/plain": [
       "  0%|          | 0/3 [00:00<?, ?it/s]"
      ]
     },
     "metadata": {},
     "output_type": "display_data"
    },
    {
     "data": {
      "application/vnd.jupyter.widget-view+json": {
       "model_id": "29ca6dc644d04d4da9e8ee0c2c27f370",
       "version_major": 2,
       "version_minor": 0
      },
      "text/plain": [
       "0it [00:00, ?it/s]"
      ]
     },
     "metadata": {},
     "output_type": "display_data"
    },
    {
     "data": {
      "application/vnd.jupyter.widget-view+json": {
       "model_id": "b97f6d75961e44939805bda39121d7b6",
       "version_major": 2,
       "version_minor": 0
      },
      "text/plain": [
       "0it [00:00, ?it/s]"
      ]
     },
     "metadata": {},
     "output_type": "display_data"
    },
    {
     "data": {
      "application/vnd.jupyter.widget-view+json": {
       "model_id": "dcc62c25ccc94415973e8ea07f66623c",
       "version_major": 2,
       "version_minor": 0
      },
      "text/plain": [
       "0it [00:00, ?it/s]"
      ]
     },
     "metadata": {},
     "output_type": "display_data"
    },
    {
     "data": {
      "application/vnd.jupyter.widget-view+json": {
       "model_id": "744bc8ba51bb4c728b3ce78d322d7fb9",
       "version_major": 2,
       "version_minor": 0
      },
      "text/plain": [
       "0it [00:00, ?it/s]"
      ]
     },
     "metadata": {},
     "output_type": "display_data"
    },
    {
     "data": {
      "application/vnd.jupyter.widget-view+json": {
       "model_id": "41bc1059e7d34f6ea8b79f3d5a7ecb24",
       "version_major": 2,
       "version_minor": 0
      },
      "text/plain": [
       "0it [00:00, ?it/s]"
      ]
     },
     "metadata": {},
     "output_type": "display_data"
    },
    {
     "data": {
      "application/vnd.jupyter.widget-view+json": {
       "model_id": "786ba3694b4a4a72b40fdb181e0b130c",
       "version_major": 2,
       "version_minor": 0
      },
      "text/plain": [
       "0it [00:00, ?it/s]"
      ]
     },
     "metadata": {},
     "output_type": "display_data"
    }
   ],
   "source": [
    "copy_files(splits)"
   ]
  },
  {
   "cell_type": "code",
   "execution_count": 19,
   "id": "closed-round",
   "metadata": {},
   "outputs": [
    {
     "name": "stdout",
     "output_type": "stream",
     "text": [
      "Going through each split\n"
     ]
    },
    {
     "data": {
      "application/vnd.jupyter.widget-view+json": {
       "model_id": "4743bab2decd467f97ad4fff5d2fbec2",
       "version_major": 2,
       "version_minor": 0
      },
      "text/plain": [
       "  0%|          | 0/3 [00:00<?, ?it/s]"
      ]
     },
     "metadata": {},
     "output_type": "display_data"
    },
    {
     "data": {
      "application/vnd.jupyter.widget-view+json": {
       "model_id": "74496eab2fb54eccaaec6d9826a26843",
       "version_major": 2,
       "version_minor": 0
      },
      "text/plain": [
       "0it [00:00, ?it/s]"
      ]
     },
     "metadata": {},
     "output_type": "display_data"
    },
    {
     "data": {
      "application/vnd.jupyter.widget-view+json": {
       "model_id": "34dedfefa6a6434984d400ac4ab80e78",
       "version_major": 2,
       "version_minor": 0
      },
      "text/plain": [
       "0it [00:00, ?it/s]"
      ]
     },
     "metadata": {},
     "output_type": "display_data"
    },
    {
     "data": {
      "application/vnd.jupyter.widget-view+json": {
       "model_id": "0c3140e7f28f469faf42dcfa19be61a9",
       "version_major": 2,
       "version_minor": 0
      },
      "text/plain": [
       "0it [00:00, ?it/s]"
      ]
     },
     "metadata": {},
     "output_type": "display_data"
    },
    {
     "data": {
      "application/vnd.jupyter.widget-view+json": {
       "model_id": "2fe0a0b089254c29a3e693fe9e807b05",
       "version_major": 2,
       "version_minor": 0
      },
      "text/plain": [
       "0it [00:00, ?it/s]"
      ]
     },
     "metadata": {},
     "output_type": "display_data"
    },
    {
     "data": {
      "application/vnd.jupyter.widget-view+json": {
       "model_id": "447d28cffdb7465094a24db1591da615",
       "version_major": 2,
       "version_minor": 0
      },
      "text/plain": [
       "0it [00:00, ?it/s]"
      ]
     },
     "metadata": {},
     "output_type": "display_data"
    },
    {
     "data": {
      "application/vnd.jupyter.widget-view+json": {
       "model_id": "ff3165e520604ecb95891bcf2450bb37",
       "version_major": 2,
       "version_minor": 0
      },
      "text/plain": [
       "0it [00:00, ?it/s]"
      ]
     },
     "metadata": {},
     "output_type": "display_data"
    }
   ],
   "source": [
    "copy_files(full_splits, full_split=True)"
   ]
  },
  {
   "cell_type": "code",
   "execution_count": null,
   "id": "corrected-intellectual",
   "metadata": {},
   "outputs": [],
   "source": []
  }
 ],
 "metadata": {
  "kernelspec": {
   "display_name": "Python 3",
   "language": "python",
   "name": "python3"
  },
  "language_info": {
   "codemirror_mode": {
    "name": "ipython",
    "version": 3
   },
   "file_extension": ".py",
   "mimetype": "text/x-python",
   "name": "python",
   "nbconvert_exporter": "python",
   "pygments_lexer": "ipython3",
   "version": "3.7.9"
  }
 },
 "nbformat": 4,
 "nbformat_minor": 5
}
